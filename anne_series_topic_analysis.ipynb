{
 "cells": [
  {
   "cell_type": "markdown",
   "id": "8dce72f6",
   "metadata": {},
   "source": [
    "## Topic Analysis: Anne of Green Gables Series\n",
    "\n",
    "The Canadian author L.M. Montgomery published over 20 novels and many short stories and poems. One of her best known is the series beginning with *Anne of Green Gables*, which was published in 1908. The series follows Anne Shirley, an orphan who is adopted by an older couple on Prince Edward Island. The eight books cover Anne's adoption at the age of 11, her years in school, teaching, and university, her first years of marriage, and finally the experience of first world war, where the focus is on her 15 year old daughter.\n",
    "\n",
    "The content of the novels evolves as Anne and her family move through many different life experiences. We can use various natural language processing techniques to take a closer look at these novels and see how they are both similiar and different. For this project, we're going to look at the topics in the novels\n",
    "\n",
    "For this project, we'd like to look at the corpus of the *Anne* novels and see what sort of topics they contain. Question we could ask are \"Which novels are most similar to each other?\" or \"Are any of the novels really different from the rest?\".\n",
    "\n",
    "As Anne said in *Anne of Green Gables*: \"People laugh at me because I use big words. But if you have big ideas, you have to use big words to express them, haven’t you?\"\n",
    "\n",
    "### Topic analysis: Introduction\n",
    "\n",
    "First, let's define what a topic is. A piece of text is usually written about a specific topic, like astronomy or cats or cooking. We would expect to find similar words in any documents that are about the same topic. Articles and books about astronomy would include terms like \"planet\", \"orbit\", and \"telescope\". A text about cooking would have different words; for example, \"mixing\", \"oven\", and \"diced\" are common terms used in cooking. But, these documents on two different topics would also have words in common, such as \"temperature\", \"scale\", and \"measure\".\n",
    "\n",
    "So how do we determine which \"topics\" are represented in a document? Math! We can use various mathematical and statistical techniques to find out what these topics are and their representation in a text. This module will focus on a topic modeling technique called [latent Dirichlet allocation(LDA)](https://towardsdatascience.com/end-to-end-topic-modeling-in-python-latent-dirichlet-allocation-lda-35ce4ed6b3e0).\n",
    "\n",
    "#### Latent Dirichlet allocation\n",
    "\n",
    "The basis of the LDA model is that it assumes that a document is a mixture of topics and that all the words in the document (after removing stop words and stemming/lemmatization) belong to a topic. A simpler way might be to say each document is a mixture of topics and each topic is a mixture of words.\n",
    "\n",
    "More generally, LDA is an unsupervised learning (clustering) technique, where the clusters are the topics. You can also think about representing a document in \"topic space\" in the same way that we use word embeddings to represent a word in a vector space.\n",
    "\n",
    "One of the parameters to specify when fitting an LDA model is the number of topics. This isn't something that can be measured or determined before actually assigning words to topics. But, the number of topics can be optimized by determining how well different numbers of topics works by measuring the performance using [topic coherence](https://towardsdatascience.com/evaluate-topic-model-in-python-latent-dirichlet-allocation-lda-7d57484bb5d0)."
   ]
  },
  {
   "cell_type": "markdown",
   "id": "82447299",
   "metadata": {},
   "source": [
    "### Document preparation\n",
    "\n",
    "For this topic analysis, we'll use six of the eight *Anne of Green Gables* novels; these six are in the public domain. Each of the six novels was downloaded from [Project Gutenberg](https://www.gutenberg.org/), cleaned of the Gutenberg beginning and ending text, and uploaded to a [repository](https://github.com/nwhoffman/sentiment).\n",
    "\n",
    "After reading in each of the text files, we'll create a string of text for each novel, and append them to a list; this is our corpus or collection of documents."
   ]
  },
  {
   "cell_type": "code",
   "execution_count": 26,
   "id": "4ae9e144",
   "metadata": {},
   "outputs": [],
   "source": [
    "# Imports\n",
    "import urllib.request\n",
    "import re\n",
    "\n",
    "import warnings\n",
    "warnings.filterwarnings(\"ignore\", category=DeprecationWarning)"
   ]
  },
  {
   "cell_type": "code",
   "execution_count": 2,
   "id": "47925de4",
   "metadata": {},
   "outputs": [],
   "source": [
    "# List of text files in the corpus\n",
    "text_files = ['green_gables', 'avonlea', 'anne_island',\n",
    "             'house_dreams', 'rainbow_valley', 'rilla_ingleside']"
   ]
  },
  {
   "cell_type": "code",
   "execution_count": 3,
   "id": "c22e0299",
   "metadata": {},
   "outputs": [],
   "source": [
    "# Load all text files\n",
    "path = \"https://raw.githubusercontent.com/nwhoffman/sentiment/master/text_files/\"\n",
    "\n",
    "# Initial a list to hold the novels (documents)\n",
    "all_text = []\n",
    "\n",
    "for text in text_files:\n",
    "    \n",
    "    text_temp = []\n",
    "\n",
    "    for line in urllib.request.urlopen(path+text+'.txt'):\n",
    "        text_temp.append(line.decode('utf-8'))\n",
    "    \n",
    "    # Combine into a single string of text\n",
    "    text_str = ''.join(text_temp)\n",
    "    # Append to the list of all text files\n",
    "    all_text.append(text_str)"
   ]
  },
  {
   "cell_type": "markdown",
   "id": "264974f1",
   "metadata": {},
   "source": [
    "### Cleaning the raw text\n",
    "\n",
    "The text downloaded from Gutenberg has some extra stuff that we need to clean: `\\n` characters, extra spaces, and for some reason, lots of ` . . .`. We'll also convert all characters to lower case."
   ]
  },
  {
   "cell_type": "code",
   "execution_count": 4,
   "id": "b47a4f7d",
   "metadata": {},
   "outputs": [],
   "source": [
    "def clean_text(text):\n",
    "    \"\"\"\n",
    "    Accepts a single text document and uses regex and string methods\n",
    "    to clean the text.\n",
    "    \"\"\"\n",
    "    # remove newlines and extra punctuation\n",
    "    text = text.replace(\"\\n\", \" \")\n",
    "    text = text.replace(\" . . .\", \".\")\n",
    "    \n",
    "    # remove spaces\n",
    "    multi_white_spaces = \"[ ]{2,}\"\n",
    "    text = re.sub(multi_white_spaces, \" \", text)\n",
    "    \n",
    "    # apply case normalization and remove extra space\n",
    "    return text.lower().lstrip().rstrip()"
   ]
  },
  {
   "cell_type": "code",
   "execution_count": 5,
   "id": "51734536",
   "metadata": {},
   "outputs": [
    {
     "data": {
      "text/plain": [
       "'i an irate neighbor a tall, slim girl, “half-past sixteen,” with serious gray eyes and hair which her friends called auburn, had sat down on the broad red sandstone doorstep of a prince edward island farmhouse one ripe afternoon in august, firmly resolved to construe so many lines of virgil. but an august afternoon, with blue hazes scarfing the harvest slopes, little winds whispering elfishly in t'"
      ]
     },
     "execution_count": 5,
     "metadata": {},
     "output_type": "execute_result"
    }
   ],
   "source": [
    "# Clean the text with the above function\n",
    "\n",
    "# Initialize a list to hold the cleaned text\n",
    "all_text_cleaned = []\n",
    "for doc in all_text:\n",
    "    all_text_cleaned.append(clean_text(doc))\n",
    "\n",
    "# Look at the results\n",
    "all_text_cleaned[1][:400]"
   ]
  },
  {
   "cell_type": "markdown",
   "id": "326de805",
   "metadata": {},
   "source": [
    "This text looks clean and ready for tokenization and lemmatization!\n",
    "\n",
    "### Tokenization\n",
    "\n"
   ]
  },
  {
   "cell_type": "code",
   "execution_count": 6,
   "id": "6fa42af8",
   "metadata": {},
   "outputs": [],
   "source": [
    "# Import NLP library: spacy\n",
    "import spacy\n",
    "\n",
    "# Download the language model if you haven't already\n",
    "#python -m spacy download en_core_web_sm"
   ]
  },
  {
   "cell_type": "code",
   "execution_count": 7,
   "id": "6ad18453",
   "metadata": {},
   "outputs": [],
   "source": [
    "# load in the spaCy language model\n",
    "nlp = spacy.load(\"en_core_web_sm\")"
   ]
  },
  {
   "cell_type": "markdown",
   "id": "30aadb27",
   "metadata": {},
   "source": [
    "Before we lemmatize the text, we'll want to remove stop words. Having run a topic model earlier, we also noticed that the words \"mr\" and \"mrs\" were very common and should be added to a custom stop word list to be removed. We can do additional filtering of the lemmatized tokens later to remove tokens that represent extremes - words that are either very common or not very common."
   ]
  },
  {
   "cell_type": "code",
   "execution_count": 8,
   "id": "40406a82",
   "metadata": {},
   "outputs": [],
   "source": [
    "# Print out the list of default stop words\n",
    "#print(nlp.Defaults.stop_words)\n",
    "\n",
    "# Add to default stop word list\n",
    "custom = {\"mrs\", \"mr\", \"dr\", \"em\", \"ma'am\"}\n",
    "nlp.Defaults.stop_words |= custom\n",
    "\n",
    "all_stopwords = nlp.Defaults.stop_words\n",
    "\n",
    "# Define the function to remove stop words and lemmatize\n",
    "def tokenize(text):\n",
    "    \"\"\"\n",
    "    Parse a raw string return lemmas\n",
    "    \"\"\"\n",
    "    \n",
    "    doc = nlp(text)\n",
    "    lemmas = []\n",
    "    \n",
    "    for token in doc:\n",
    "        if (token.is_stop == False) and (token.is_punct == False) and (token.pos != 'PRON'):\n",
    "            lemmas.append(token.lemma_)\n",
    "            \n",
    "    # Do one more pass to remove lemmas that are now stop words\n",
    "    # e.g. \"said\" becomes \"say\" when lemmatized\n",
    "    lemmas_nostop = [word for word in lemmas if not word in all_stopwords]\n",
    "    \n",
    "    return lemmas_nostop"
   ]
  },
  {
   "cell_type": "code",
   "execution_count": 9,
   "id": "9d852951",
   "metadata": {},
   "outputs": [],
   "source": [
    "# Create all document lemmas\n",
    "\n",
    "# Inititalize a list to hold the lemmas\n",
    "all_lemmas = []\n",
    "for book in all_text_cleaned:\n",
    "    all_lemmas.append(tokenize(book))"
   ]
  },
  {
   "cell_type": "code",
   "execution_count": 27,
   "id": "9bd80147",
   "metadata": {},
   "outputs": [
    {
     "data": {
      "text/plain": [
       "['donnell',\n",
       " 'thing',\n",
       " 'rent',\n",
       " 'peter',\n",
       " 'sloane',\n",
       " 'old',\n",
       " 'house',\n",
       " 'peter',\n",
       " 'hire',\n",
       " 'man',\n",
       " 'run',\n",
       " 'mill',\n",
       " 'belong',\n",
       " 'east',\n",
       " 'know',\n",
       " 'shiftless',\n",
       " 'timothy',\n",
       " 'cotton',\n",
       " 'family',\n",
       " 'white',\n",
       " 'sand',\n",
       " 'simply',\n",
       " 'burden',\n",
       " 'public',\n",
       " 'consumption']"
      ]
     },
     "execution_count": 27,
     "metadata": {},
     "output_type": "execute_result"
    }
   ],
   "source": [
    "# View some of the lemmas to spot-check the results\n",
    "all_lemmas[1][975:1000]"
   ]
  },
  {
   "cell_type": "markdown",
   "id": "726e03d2",
   "metadata": {},
   "source": [
    "### Topic model\n",
    "\n",
    "Now that we have lemmas for each of our documents, we can create a topic model. We'll use the `gensim` library and utilize an LDA model (described abmove) to find the topics in our collection of novels.\n",
    "\n",
    "\n",
    "#### Topic modeling steps:\n",
    "\n",
    "* Create the dictionary to match each lemma to an id\n",
    "* Filter out extremes of lemma frequencies\n",
    "* Create the corpus which is the collection of all the words in all of the documents\n",
    "* Train the topic model!"
   ]
  },
  {
   "cell_type": "code",
   "execution_count": 28,
   "id": "087111e9",
   "metadata": {},
   "outputs": [],
   "source": [
    "# Import topic model library: gensim\n",
    "import gensim\n",
    "import gensim.corpora as corpora\n",
    "from gensim import models"
   ]
  },
  {
   "cell_type": "code",
   "execution_count": 29,
   "id": "bf5ea419",
   "metadata": {},
   "outputs": [
    {
     "name": "stdout",
     "output_type": "stream",
     "text": [
      "Words in dictionary:  13085\n",
      "Words in dictionary (after filtering):  5571\n"
     ]
    }
   ],
   "source": [
    "# Create dictionary\n",
    "id2word = corpora.Dictionary(all_lemmas)\n",
    "\n",
    "# How many words do we have in the dictionary?\n",
    "print('Words in dictionary: ', len(id2word.keys()))\n",
    "\n",
    "# Apply some filtering\n",
    "# Keep tokens which are contained in at least 2 documents\n",
    "# Keep tokens which are contained in no more than 0.95 \n",
    "id2word.filter_extremes(no_below=2, no_above=0.95)\n",
    "\n",
    "print('Words in dictionary (after filtering): ', len(id2word.keys()))"
   ]
  },
  {
   "cell_type": "code",
   "execution_count": 13,
   "id": "6067fc1e",
   "metadata": {},
   "outputs": [],
   "source": [
    "# Create corpus\n",
    "corpus = [id2word.doc2bow(text) for text in all_lemmas]"
   ]
  },
  {
   "cell_type": "code",
   "execution_count": 14,
   "id": "307e4eaf",
   "metadata": {},
   "outputs": [],
   "source": [
    "# Train LDA model.\n",
    "from gensim.models import LdaModel\n",
    "\n",
    "# Set training parameters\n",
    "num_topics = 10\n",
    "chunksize = 500\n",
    "passes = 20\n",
    "iterations = 25\n",
    "eval_every = None  # Don't evaluate model perplexity, takes too much time.\n",
    "\n",
    "# Instantiate the LDA model\n",
    "model = LdaModel(\n",
    "    corpus=corpus,\n",
    "    id2word=id2word,\n",
    "    chunksize=chunksize,\n",
    "    alpha='auto',\n",
    "    eta='auto',\n",
    "    iterations=iterations,\n",
    "    num_topics=num_topics,\n",
    "    passes=passes,\n",
    "    eval_every=eval_every\n",
    ")"
   ]
  },
  {
   "cell_type": "markdown",
   "id": "a72e127f",
   "metadata": {},
   "source": [
    "Now that we've modeled the topics, let's see what they look like. Remember that a topic is composed of a mixture of words and a word can occur in more than one topic. Topics can also be either very similar or very different from each other."
   ]
  },
  {
   "cell_type": "code",
   "execution_count": 15,
   "id": "0eea6803",
   "metadata": {},
   "outputs": [
    {
     "name": "stdout",
     "output_type": "stream",
     "text": [
      "(0, '0.000*\"rilla\" + 0.000*\"susan\" + 0.000*\"jim\" + 0.000*\"cornelia\" + 0.000*\"walter\"')\n",
      "(1, '0.000*\"leslie\" + 0.000*\"jim\" + 0.000*\"captain\" + 0.000*\"cornelia\" + 0.000*\"susan\"')\n",
      "(2, '0.035*\"una\" + 0.029*\"meredith\" + 0.023*\"rosemary\" + 0.018*\"ellen\" + 0.017*\"cornelia\"')\n",
      "(3, '0.000*\"susan\" + 0.000*\"rilla\" + 0.000*\"meredith\" + 0.000*\"una\" + 0.000*\"cornelia\"')\n",
      "(4, '0.000*\"rilla\" + 0.000*\"susan\" + 0.000*\"davy\" + 0.000*\"walter\" + 0.000*\"cornelia\"')\n",
      "(5, '0.040*\"rilla\" + 0.031*\"susan\" + 0.013*\"walter\" + 0.013*\"davy\" + 0.012*\"jem\"')\n",
      "(6, '0.023*\"davy\" + 0.022*\"phil\" + 0.012*\"priscilla\" + 0.011*\"redmond\" + 0.010*\"patty\"')\n",
      "(7, '0.043*\"leslie\" + 0.037*\"captain\" + 0.037*\"jim\" + 0.031*\"cornelia\" + 0.017*\"dick\"')\n",
      "(8, '0.034*\"matthew\" + 0.015*\"barry\" + 0.010*\"allan\" + 0.009*\"ruby\" + 0.007*\"pye\"')\n",
      "(9, '0.000*\"susan\" + 0.000*\"rilla\" + 0.000*\"jim\" + 0.000*\"cornelia\" + 0.000*\"matthew\"')\n"
     ]
    }
   ],
   "source": [
    "# Print out 5 words for each topic\n",
    "\n",
    "topics = model.print_topics(num_words=5)\n",
    "for topic in topics:\n",
    "    print(topic)"
   ]
  },
  {
   "cell_type": "markdown",
   "id": "23e618b2",
   "metadata": {},
   "source": [
    "Because it can sometimes be difficult to interpret the topics, using some sort of visualization can help. The pyLDAvis library is a very useful tool but won't be explain in detail here. Basically, we can \"project\" the term-topic space onto a 2D plane for easier visualization."
   ]
  },
  {
   "cell_type": "code",
   "execution_count": 30,
   "id": "004abd07",
   "metadata": {},
   "outputs": [],
   "source": [
    "# Import the visualization library\n",
    "import pyLDAvis\n",
    "import pyLDAvis.gensim_models as gensimvis\n",
    "pyLDAvis.enable_notebook()"
   ]
  },
  {
   "cell_type": "code",
   "execution_count": 31,
   "id": "e8283604",
   "metadata": {},
   "outputs": [],
   "source": [
    "# Feed the LDA model into the pyLDAvis instance\n",
    "lda_viz = gensimvis.prepare(model, corpus, id2word)"
   ]
  },
  {
   "cell_type": "code",
   "execution_count": 32,
   "id": "625a2ad9",
   "metadata": {},
   "outputs": [
    {
     "data": {
      "text/html": [
       "\n",
       "<link rel=\"stylesheet\" type=\"text/css\" href=\"https://cdn.jsdelivr.net/gh/bmabey/pyLDAvis@3.3.1/pyLDAvis/js/ldavis.v1.0.0.css\">\n",
       "\n",
       "\n",
       "<div id=\"ldavis_el25681405249974486401672477997\"></div>\n",
       "<script type=\"text/javascript\">\n",
       "\n",
       "var ldavis_el25681405249974486401672477997_data = {\"mdsDat\": {\"x\": [-0.0836287679885051, 0.15655772026529455, -0.21805119033458475, -0.06156754910302003, 0.1145195190135643, 0.01836556306651601, 0.018466949090216848, 0.01854912112242592, 0.018354858864788316, 0.018433776003303894], \"y\": [0.013189139729114752, 0.07365299254220459, 0.11388102471912563, -0.225171219468239, 0.0009355009815507138, 0.005139428052643233, 0.00489686860964911, 0.005180733040974647, 0.0033968133123257224, 0.004898718480651061], \"topics\": [1, 2, 3, 4, 5, 6, 7, 8, 9, 10], \"cluster\": [1, 1, 1, 1, 1, 1, 1, 1, 1, 1], \"Freq\": [33.912307408730236, 20.418210110997833, 16.097558132792415, 14.810382422483952, 14.761155034873475, 0.0001213403510003974, 0.00012052196533059167, 0.00011271686928506016, 2.926312496455414e-05, 3.047811496492584e-06]}, \"tinfo\": {\"Term\": [\"rilla\", \"leslie\", \"jim\", \"matthew\", \"captain\", \"una\", \"cornelia\", \"meredith\", \"davy\", \"susan\", \"rosemary\", \"walter\", \"phil\", \"ellen\", \"dick\", \"manse\", \"carl\", \"barry\", \"jem\", \"oliver\", \"jerry\", \"glen\", \"irene\", \"ruby\", \"sophia\", \"harbor\", \"priscilla\", \"moore\", \"norman\", \"harrison\", \"irene\", \"gertrude\", \"rilla\", \"oliver\", \"france\", \"miranda\", \"ken\", \"sophia\", \"jersey\", \"ally\", \"union\", \"soup\", \"trench\", \"german\", \"pony\", \"m.\", \"spoonful\", \"flander\", \"clair\", \"nook\", \"paris\", \"eliza\", \"ginger\", \"donnell\", \"raid\", \"shortbread\", \"major\", \"ruefully\", \"jack\", \"united\", \"germany\", \"abe\", \"ma\\u2019am\", \"british\", \"grafton\", \"irve\", \"lavendar\", \"charlotta\", \"judson\", \"kaiser\", \"susan\", \"paul\", \"harrison\", \"monday\", \"jem\", \"kenneth\", \"fourth\", \"walter\", \"morgan\", \"davy\", \"ingleside\", \"dora\", \"jim\", \"glen\", \"today\", \"meredith\", \"nan\", \"harbour\", \"phillip\", \"stacy\", \"matthew\", \"harris\", \"debate\", \"schoolhouse\", \"layer\", \"lifelong\", \"block\", \"warrant\", \"vanilla\", \"thereof\", \"selection\", \"ejaculate\", \"rosebush\", \"someday\", \"quench\", \"behavior\", \"raspberry\", \"bosom\", \"elaine\", \"organdy\", \"shirring\", \"pork\", \"clip\", \"spencer\", \"josie\", \"josephine\", \"barry\", \"sufficiently\", \"sleeve\", \"prissy\", \"allan\", \"wreath\", \"minnie\", \"lake\", \"elegant\", \"recitation\", \"scholar\", \"moral\", \"pye\", \"asylum\", \"bridge\", \"gilli\", \"orphan\", \"slope\", \"geometry\", \"mournfully\", \"ruby\", \"cordial\", \"carmody\", \"assure\", \"thoma\", \"andrew\", \"recite\", \"river\", \"cherry\", \"sloane\", \"haunted\", \"color\", \"moody\", \"today\", \"spruce\", \"island\", \"rosemary\", \"wiley\", \"davis\", \"ellen\", \"pollock\", \"myra\", \"eld\", \"saint\", \"adam\", \"una\", \"dan\", \"martha\", \"cecilia\", \"ditto\", \"bertie\", \"stepmother\", \"abraham\", \"eel\", \"manse\", \"dyke\", \"ho\", \"session\", \"carl\", \"rip\", \"stocking\", \"congregation\", \"pa\", \"lustre\", \"humour\", \"deacon\", \"rooster\", \"gum\", \"meredith\", \"warren\", \"norman\", \"jerry\", \"tombstone\", \"vance\", \"methodist\", \"harbour\", \"elliott\", \"cornelia\", \"walter\", \"glen\", \"dougla\", \"nan\", \"di\", \"susan\", \"ingleside\", \"jem\", \"george\", \"alec\", \"dearie\", \"marshall\", \"leslie\", \"moore\", \"dick\", \"owen\", \"captain\", \"margaret\", \"mistress\", \"russell\", \"harbor\", \"geese\", \"mebbe\", \"bryant\", \"schoolmaster\", \"eighth\", \"twa\", \"jest\", \"sorter\", \"bar\", \"'em\", \"oracle\", \"vessel\", \"fireplace\", \"mate\", \"fog\", \"turrible\", \"critter\", \"stork\", \"mackerel\", \"file\", \"driftwood\", \"lombardy\", \"operation\", \"jim\", \"cove\", \"cornelia\", \"ford\", \"fishing\", \"grit\", \"dearie\", \"realise\", \"macallister\", \"lord\", \"sail\", \"marshall\", \"glen\", \"channel\", \"methodist\", \"susan\", \"george\", \"elliott\", \"today\", \"christmas\", \"jamesina\", \"phil\", \"jona\", \"roy\", \"gordon\", \"gardner\", \"worthwhile\", \"esther\", \"postscript\", \"rusty\", \"alonzo\", \"park\", \"boardinghouse\", \"patty\", \"aunty\", \"philippa\", \"dorothy\", \"pris\", \"orchid\", \"stella\", \"mathematic\", \"rolling\", \"sketch\", \"author\", \"maria\", \"epitaph\", \"victim\", \"literary\", \"tommy\", \"blake\", \"redmond\", \"bolingbroke\", \"editor\", \"priscilla\", \"jog\", \"honey\", \"avenue\", \"sarah\", \"cushion\", \"charlie\", \"jo\", \"davy\", \"kingsport\", \"billy\", \"pine\", \"ruby\", \"sloane\", \"dora\", \"joseph\", \"dougla\", \"alec\", \"harrison\", \"gilli\", \"today\", \"lavishly\", \"reminiscently\", \"elfishly\", \"unloose\", \"stuffing\", \"burning\", \"pickle\", \"balm\", \"handshake\", \"anoint\", \"wrung\", \"thickest\", \"veer\", \"begone\", \"saintly\", \"unshaded\", \"oblong\", \"execute\", \"astutely\", \"conundrum\", \"figurative\", \"womenkind\", \"semi\", \"impertinence\", \"gimme\", \"christina\", \"heartstring\", \"unto\", \"finality\", \"ardent\", \"shaded\", \"research\", \"sanctity\", \"conspirator\", \"archangel\", \"gander\", \"noah\", \"roost\", \"essentially\", \"hayloft\", \"ugh\", \"beneficent\", \"condemn\", \"suspicione\", \"infatuation\", \"gust\", \"reminiscent\", \"assuredly\", \"detachment\", \"constitution\", \"invalid\", \"rilla\", \"susan\", \"meredith\", \"profile\", \"arbutus\", \"una\", \"cornelia\", \"jem\", \"jim\", \"congregate\", \"prostrate\", \"westminster\", \"walter\", \"glen\", \"davy\", \"leslie\", \"captain\", \"harbour\", \"ellen\", \"rosemary\", \"norman\", \"lavendar\", \"ruby\", \"harrison\", \"methodist\", \"dougla\", \"manse\", \"ingleside\", \"dick\", \"carl\", \"matthew\", \"phil\", \"barry\", \"paul\", \"jerry\", \"burning\", \"begone\", \"balm\", \"figurative\", \"conundrum\", \"oblong\", \"gimme\", \"reminiscently\", \"elfishly\", \"veer\", \"pickle\", \"unloose\", \"wrung\", \"anoint\", \"execute\", \"semi\", \"impertinence\", \"saintly\", \"unshaded\", \"handshake\", \"womenkind\", \"thickest\", \"stuffing\", \"lavishly\", \"astutely\", \"christina\", \"origin\", \"crept\", \"resistance\", \"belove\", \"memoir\", \"incredulous\", \"raymond\", \"reverently\", \"27\", \"focus\", \"endeavor\", \"unsentimentally\", \"brewing\", \"sanctity\", \"leisurely\", \"fruition\", \"inveterate\", \"quit\", \"wickedly\", \"entertaining\", \"conventionally\", \"simmer\", \"starkly\", \"heartstring\", \"breaker\", \"protectingly\", \"widely\", \"haunch\", \"raincoat\", \"keenness\", \"heartless\", \"malignant\", \"horde\", \"onslaught\", \"saith\", \"torch\", \"vista\", \"pitching\", \"unclouded\", \"rilla\", \"susan\", \"bored\", \"indescribable\", \"unbrokenly\", \"tryste\", \"jim\", \"trivial\", \"supersede\", \"walter\", \"cornelia\", \"davy\", \"leslie\", \"jem\", \"phil\", \"captain\", \"meredith\", \"glen\", \"matthew\", \"oliver\", \"harrison\", \"una\", \"priscilla\", \"ruby\", \"redmond\", \"today\", \"ingleside\", \"irene\", \"gertrude\", \"jerry\", \"carl\", \"sophia\", \"german\", \"monday\", \"dick\", \"dora\", \"barry\", \"begone\", \"unshaded\", \"unloose\", \"figurative\", \"pickle\", \"conundrum\", \"anoint\", \"stuffing\", \"thickest\", \"reminiscently\", \"lavishly\", \"gimme\", \"astutely\", \"handshake\", \"wrung\", \"womenkind\", \"oblong\", \"balm\", \"execute\", \"semi\", \"saintly\", \"veer\", \"elfishly\", \"impertinence\", \"christina\", \"burning\", \"quoth\", \"respectably\", \"raymond\", \"sanctity\", \"breaker\", \"obligation\", \"marilla\\u2019ll\", \"quart\", \"wakeful\", \"frightfully\", \"confused\", \"genially\", \"unsettling\", \"clamor\", \"rilla\", \"susan\", \"davy\", \"exaggeration\", \"emulate\", \"walter\", \"cornelia\", \"matthew\", \"meredith\", \"faultless\", \"jim\", \"harrison\", \"jem\", \"una\", \"glen\", \"sloane\", \"phil\", \"lavendar\", \"oliver\", \"jerry\", \"rosemary\", \"ingleside\", \"paul\", \"dora\", \"sophia\", \"norman\", \"barry\", \"today\", \"captain\", \"charlotta\", \"leslie\", \"priscilla\", \"vance\", \"tolerate\", \"finality\", \"incredulous\", \"congratulatory\", \"contact\", \"raymond\", \"brusque\", \"repartee\", \"auld\", \"landward\", \"respectably\", \"recreation\", \"fiction\", \"penitentiary\", \"allured\", \"belove\", \"crept\", \"quit\", \"skull\", \"heartstring\", \"27\", \"reverently\", \"ardent\", \"unto\", \"brewing\", \"pitifully\", \"endeavor\", \"film\", \"yawn\", \"wraith\", \"sanity\", \"leslie\", \"jim\", \"captain\", \"cornelia\", \"phil\", \"susan\", \"harbor\", \"dick\", \"rilla\", \"matthew\", \"mistress\", \"davy\", \"moore\", \"glen\", \"ruby\", \"today\", \"owen\", \"dearie\", \"redmond\", \"jem\", \"harrison\", \"methodist\", \"walter\", \"andrew\", \"priscilla\", \"meredith\", \"ford\", \"joseph\", \"stella\", \"jest\", \"patty\", \"una\", \"dora\", \"anoint\", \"gimme\", \"veer\", \"astutely\", \"burning\", \"execute\", \"saintly\", \"stuffing\", \"pickle\", \"impertinence\", \"thickest\", \"begone\", \"unshaded\", \"oblong\", \"lavishly\", \"elfishly\", \"handshake\", \"semi\", \"wrung\", \"figurative\", \"unloose\", \"reminiscently\", \"womenkind\", \"christina\", \"balm\", \"conundrum\", \"pitifully\", \"contact\", \"unto\", \"brusque\", \"quit\", \"belove\", \"shaded\", \"focus\", \"1\", \"recreation\", \"undue\", \"consistent\", \"conspirator\", \"hoarsely\", \"leisurely\", \"repartee\", \"ardent\", \"wraith\", \"quoth\", \"respectably\", \"wonderment\", \"sanity\", \"fiction\", \"halcyon\", \"g.\", \"resistance\", \"breaker\", \"glee\", \"aloofness\", \"mattress\", \"duckhouse\", \"susan\", \"rilla\", \"ripen\", \"anneish\", \"cornelia\", \"jim\", \"matthew\", \"leslie\", \"meredith\", \"davy\", \"jem\", \"captain\", \"unfit\", \"una\", \"barry\", \"ruby\", \"phil\", \"rosemary\", \"glen\", \"priscilla\", \"walter\", \"today\", \"methodist\", \"ingleside\", \"manse\", \"moore\", \"harbor\", \"harrison\", \"ellen\", \"paul\", \"carl\", \"allan\", \"andrew\"], \"Freq\": [718.0, 338.0, 468.0, 376.0, 302.0, 324.0, 412.0, 334.0, 406.0, 744.0, 193.0, 358.0, 176.0, 156.0, 134.0, 171.0, 157.0, 174.0, 306.0, 140.0, 163.0, 267.0, 100.0, 167.0, 105.0, 114.0, 131.0, 90.0, 118.0, 193.0, 99.70028547502582, 86.41800320979245, 709.5613008782958, 138.58605774060717, 21.901329029347146, 72.18158947578992, 59.85460409235175, 103.4947796904223, 16.212992318334752, 15.248948661743196, 14.32253178543142, 31.726117051910947, 30.447282159163443, 74.0898112326559, 8.629732633817005, 8.623294035703024, 8.62335529195307, 8.6227262571837, 29.498553594599958, 8.61966807750708, 26.65466990049103, 27.53590952025697, 45.47491456328584, 23.807532933270465, 6.732889611465698, 6.732642012673499, 6.732670324385705, 6.7326579701840155, 23.759240358865192, 5.784288706986342, 31.54698936354388, 20.89647120843985, 45.362693113203285, 31.374098487996523, 18.99849108477468, 54.65599720197274, 139.7958305868753, 104.83698957880468, 24.691721089173026, 31.162763395824246, 550.6268352017108, 132.32681792675882, 153.23216151104555, 86.91121588578552, 214.9966963581637, 53.57618232134643, 66.95600100892047, 228.6757296925965, 55.83879670788489, 226.75843995169024, 101.97699188762506, 86.14831098690496, 181.16250774671872, 98.33692519335058, 66.74547305792527, 90.95370834590227, 50.73391702765886, 57.11821430714543, 45.839347936715434, 71.00695740688063, 363.08714326841823, 8.82608002317729, 7.842203782339951, 6.904459398999884, 6.904546179431332, 6.855435893554733, 6.852044638265809, 5.93026041598939, 5.930220744935014, 8.637090219431114, 4.956356486445818, 4.9555336219976285, 4.955373388129563, 5.845275099752389, 5.844800286820326, 5.837419611125714, 15.66916396203592, 14.695682157305317, 13.722086298293384, 7.522854893914213, 3.979913299492069, 3.9795689671372902, 3.979126386936908, 59.35608941923591, 72.08585140169053, 21.39030523334466, 156.05185460867372, 4.759266969144465, 34.146205481751274, 17.61517422647165, 103.42824064995412, 9.82924135532317, 23.93273632787153, 27.11909310038437, 13.722698720195313, 13.722328043780987, 18.21209838306519, 12.158202506252747, 79.1532150266037, 37.08227757220588, 36.694123578986535, 54.89323465062538, 30.72430430332179, 33.61377530208908, 19.562070891028597, 15.514997285848958, 94.03856821404206, 16.642192029082096, 41.98158088385676, 27.049718344044326, 36.37717912837211, 58.353591957390606, 25.0893979864629, 23.041188887352327, 26.79064900288271, 51.16217694544367, 22.659607891954902, 27.121748581586665, 21.3488985703397, 36.68480088120817, 23.262637671761, 22.47748056075555, 190.4458759708919, 41.40502119817424, 61.47452386725348, 148.21285638784894, 14.590916157704434, 17.08562150771893, 16.143614959535096, 14.265968555345768, 26.08070588841616, 292.4739771169139, 47.81964438425647, 74.83436180365985, 16.458434888520724, 8.7993520898887, 9.543119352262861, 14.528145498851256, 8.582010772772072, 11.506101325087583, 142.90771483511463, 15.149965291713682, 5.763965131618942, 8.730959506962783, 126.33743376103413, 4.918689006347628, 38.23940098087142, 14.385226258680838, 16.213447231987985, 3.948255920400834, 6.809730485192184, 6.809410391288529, 27.37606873942775, 13.322402099161224, 243.40926420865122, 22.983844773776273, 84.011116823282, 110.47106605920438, 23.714049828495128, 62.740711747199136, 71.93738198325143, 66.20427830218163, 55.41847231551015, 145.53358342690822, 126.90519335876665, 92.26017618002508, 49.533482855423756, 43.24692459761043, 39.58916317994291, 119.92963663853396, 51.74383339699283, 74.3223444823036, 30.520774851843836, 27.85342990922432, 28.86859379691519, 27.826211664861034, 335.06257687118955, 89.64706866297449, 130.7287926225262, 83.11894442178995, 289.3397445197782, 19.682067225030117, 72.8624479507334, 15.951682511088382, 99.90880226862538, 8.487813426105541, 7.555276147399629, 17.817291213065634, 22.488619238369186, 6.622667379648343, 6.62221371646104, 45.81683460106012, 18.75384626604482, 27.148519807212402, 26.216583216334275, 5.691231212087824, 5.689477707201323, 13.156351130556368, 19.682881930377384, 8.488058916789651, 4.755984543523949, 4.7581624865163095, 4.7577771650579175, 4.756601417550687, 4.756365368815966, 7.555489265685834, 10.357034348148984, 12.222233898986055, 284.6802773813736, 14.087978385187851, 236.18370603883267, 57.94651311673705, 17.82230533780775, 15.955543818771783, 47.68043801283384, 11.289327934637338, 21.55355691262671, 25.28439484013911, 30.878886536488636, 34.61923295665225, 75.6856951290585, 14.087272487066876, 32.75812941338339, 71.04318393328971, 25.28943234494638, 28.08857467609839, 24.354161397084077, 18.754964912239082, 70.69379092778225, 169.52730316507362, 25.509677881093452, 60.33784503152559, 16.094750925613553, 26.45071116178005, 6.489880213168477, 6.490205101750717, 6.483721221893571, 36.805242784429055, 24.566158418538905, 23.62581345352448, 13.27182226622745, 76.34239613177694, 13.216487242900326, 30.21495721131639, 9.50703847007223, 12.330204634215006, 7.43093589996419, 51.05549591995311, 5.741277319437195, 5.741361566407487, 4.799832662587159, 3.3249166965382644, 21.742911592403296, 4.8000854034980325, 4.800246727483696, 5.457297811228468, 6.199116583240395, 10.372574814201158, 82.13502422021753, 13.272655773486713, 10.370675672392148, 92.72872582156836, 11.779089634389603, 11.067864163770126, 15.153307165007881, 24.53390437633848, 22.59492450531176, 40.653805711317055, 15.154319921140104, 174.25628995123424, 28.333084238725995, 23.623533407860428, 24.036825741755603, 70.07864464555807, 48.00387348224533, 54.01969868231828, 26.68537840879311, 30.215903645365614, 22.687022576238615, 33.23134649055514, 23.234911096350736, 28.487349403772846, 1.1328296286092936e-05, 1.1328311020794325e-05, 1.1326469183120545e-05, 1.1325307904467226e-05, 1.1325469065263682e-05, 1.1327710581712672e-05, 1.1324781138892526e-05, 1.1325234230960275e-05, 1.1324611689826538e-05, 1.132408676608951e-05, 1.1324139258463212e-05, 1.1324107026303922e-05, 1.1323553554082951e-05, 1.1323819699626812e-05, 1.132384088076006e-05, 1.1323890610377252e-05, 1.1323511191816453e-05, 1.1323623543914554e-05, 1.1323111513041243e-05, 1.1324674312307445e-05, 1.1322516599472612e-05, 1.1323999278800004e-05, 1.1321481486699947e-05, 1.1320982348690353e-05, 1.132022811616294e-05, 1.132212336712926e-05, 1.132718105338146e-05, 1.1326984897669203e-05, 1.1325877032308425e-05, 1.1326850443519018e-05, 1.132735602796047e-05, 1.1327179211543786e-05, 1.1326529042844942e-05, 1.1326176330930414e-05, 1.1329234702387726e-05, 1.1329115903857768e-05, 1.1333092431395459e-05, 1.133254448468751e-05, 1.1331710132221287e-05, 1.1331415438193482e-05, 1.1330906170076682e-05, 1.1327532844377152e-05, 1.1327592704101551e-05, 1.1326100815585788e-05, 1.1329873820060527e-05, 1.13300653711786e-05, 1.1330057082909068e-05, 1.1327547579078543e-05, 1.1331107851301961e-05, 1.1329697003643845e-05, 1.1329564391331333e-05, 1.4977991570410042e-05, 1.4984078843921886e-05, 1.3836731850767857e-05, 1.1329522949983672e-05, 1.1329350738161174e-05, 1.3730076556592258e-05, 1.3343405759952997e-05, 1.3220105778719446e-05, 1.3290591985576183e-05, 1.1329138005909852e-05, 1.1329130638559157e-05, 1.1329096564562193e-05, 1.3170536401404996e-05, 1.3009709898487007e-05, 1.3014052030802944e-05, 1.289715519824229e-05, 1.2716939670132417e-05, 1.2415385717911567e-05, 1.2400997282003996e-05, 1.2430973190144771e-05, 1.2292574744580404e-05, 1.2323339880164395e-05, 1.2300435707772099e-05, 1.2302322670468888e-05, 1.2230748858465784e-05, 1.213694406574015e-05, 1.2175825259033654e-05, 1.2159049801500863e-05, 1.2116228917423143e-05, 1.2113754408508419e-05, 1.2200804261565463e-05, 1.2096558091067169e-05, 1.2092989530574219e-05, 1.2085777815162532e-05, 1.20580397397954e-05, 1.1247341391617837e-05, 1.1244235044415537e-05, 1.1243807875939839e-05, 1.124318130119497e-05, 1.1245052793060666e-05, 1.1243487728259978e-05, 1.1243348692696154e-05, 1.1244235044415537e-05, 1.124227665532245e-05, 1.1241898881060215e-05, 1.1241822960324705e-05, 1.1241471712584517e-05, 1.1241882416322395e-05, 1.1241595198118176e-05, 1.1241984863579949e-05, 1.124165282470055e-05, 1.1241625383470849e-05, 1.1240954902758456e-05, 1.1240942096851263e-05, 1.124065304923173e-05, 1.1242615097155446e-05, 1.1240438092932397e-05, 1.1239808774064558e-05, 1.1239402643864963e-05, 1.1239238911194407e-05, 1.124120919148703e-05, 1.1255186839189724e-05, 1.1250948083908375e-05, 1.125116852845365e-05, 1.1250234611936116e-05, 1.1250942595662435e-05, 1.1249411375045047e-05, 1.1248933897648226e-05, 1.1249082994996275e-05, 1.1248976888908094e-05, 1.1248636617659786e-05, 1.1248589967569292e-05, 1.1248706135441698e-05, 1.1248223169798938e-05, 1.1248223169798938e-05, 1.124808779306574e-05, 1.1248065840081977e-05, 1.124797802814693e-05, 1.1247763986555252e-05, 1.1247922230979869e-05, 1.1260075951615015e-05, 1.125251955166266e-05, 1.1252189342198577e-05, 1.1250925216216957e-05, 1.1247417312353347e-05, 1.124742737413757e-05, 1.125558107818978e-05, 1.1255125553776722e-05, 1.1255149336175797e-05, 1.125502768005745e-05, 1.1254827359080624e-05, 1.1253983998621105e-05, 1.1250254735504563e-05, 1.1250217232490638e-05, 1.1253905333762626e-05, 1.125007362338853e-05, 1.1253378462152343e-05, 1.1253332726769506e-05, 1.1253034532073407e-05, 1.125300251730542e-05, 1.6626794747506727e-05, 1.6123334164989355e-05, 1.1252777499221862e-05, 1.1252733593254338e-05, 1.1252743655038562e-05, 1.1252456436834345e-05, 1.4642073050397303e-05, 1.1252158242138246e-05, 1.1252041159558184e-05, 1.3508077953564824e-05, 1.3555723245989262e-05, 1.3330025534641483e-05, 1.322967936057379e-05, 1.2983516894821698e-05, 1.2797378460212748e-05, 1.2862328192087454e-05, 1.2815028659157265e-05, 1.27302727623911e-05, 1.2700877717134002e-05, 1.2397056654239105e-05, 1.2422603524384284e-05, 1.2536896246094343e-05, 1.2246514068092317e-05, 1.2248901455076416e-05, 1.2075428977390389e-05, 1.2098346063022433e-05, 1.2062571846567207e-05, 1.1978536739434556e-05, 1.1958814727647517e-05, 1.2025155729868128e-05, 1.2020277593934716e-05, 1.1934854875286787e-05, 1.1887768469240619e-05, 1.1926644459359861e-05, 1.1952415432880942e-05, 1.1960980755378685e-05, 1.197913404353441e-05, 1.0521923313458255e-05, 1.0522004583153734e-05, 1.0520207239677917e-05, 1.0520327861015419e-05, 1.0519451003774717e-05, 1.0521187608846545e-05, 1.0518981350481893e-05, 1.0518764916450773e-05, 1.0519069463941203e-05, 1.0519683691744932e-05, 1.05182208372263e-05, 1.0518257622456886e-05, 1.0517922278029222e-05, 1.0517935965556882e-05, 1.0517314038518844e-05, 1.0519202061865406e-05, 1.0517231913352884e-05, 1.0517118135779213e-05, 1.051711984672017e-05, 1.0516365321757929e-05, 1.0516017145273085e-05, 1.0515246366371746e-05, 1.0515245510901268e-05, 1.0515319081362439e-05, 1.0516147176785852e-05, 1.051404271940817e-05, 1.0518474056488005e-05, 1.0517292651756875e-05, 1.0516425204691439e-05, 1.0517402151978152e-05, 1.0516781935881071e-05, 1.052042795106143e-05, 1.0523828446214393e-05, 1.0523523898723964e-05, 1.0523145780772364e-05, 1.0523586348068912e-05, 1.0522529842027676e-05, 1.0521645285552666e-05, 1.0521573426032453e-05, 1.0521226105018087e-05, 1.4438158520345572e-05, 1.4262188242870264e-05, 1.31042208364463e-05, 1.0521222683136172e-05, 1.0521068698450001e-05, 1.2550389248514775e-05, 1.233302617645551e-05, 1.2296930455075864e-05, 1.22178071350274e-05, 1.0521563160386708e-05, 1.2209414114160555e-05, 1.1985349286370897e-05, 1.207532681585352e-05, 1.1917577204104738e-05, 1.184260206040765e-05, 1.141342193140274e-05, 1.1493871230693239e-05, 1.147131161869858e-05, 1.1427005091664057e-05, 1.1453380957464342e-05, 1.1463068305165511e-05, 1.140462683941089e-05, 1.1389905903412859e-05, 1.1361104778805366e-05, 1.1293052102222183e-05, 1.1290582358950082e-05, 1.1329543050963003e-05, 1.1292031525941056e-05, 1.1360901176831427e-05, 1.1238152284249514e-05, 1.1353820447678957e-05, 1.1205915590199432e-05, 1.1171772052452253e-05, 2.7365453427158965e-06, 2.7363316882951026e-06, 2.735861071124976e-06, 2.733961501207046e-06, 2.7334386919486797e-06, 2.7334560152800955e-06, 2.733363402085219e-06, 2.732946975849265e-06, 2.7323999583457147e-06, 2.7316324015076035e-06, 2.731479378746765e-06, 2.731332352523724e-06, 2.7311240283587505e-06, 2.730956791582391e-06, 2.7309656753420915e-06, 2.7307395836577174e-06, 2.7308033246335675e-06, 2.7306878357574626e-06, 2.730493947702002e-06, 2.730412217112759e-06, 2.7302916200748265e-06, 2.7300255514718005e-06, 2.7299085079377484e-06, 2.7298021249153366e-06, 2.7299042881518906e-06, 2.72970418146464e-06, 2.7298329959802954e-06, 2.729476090934333e-06, 2.7293312856512173e-06, 2.729239116644326e-06, 2.731910463186225e-06, 5.422078360480372e-06, 4.628676888648768e-06, 4.3782050583408564e-06, 4.054272530694678e-06, 3.5430794544185535e-06, 3.8015078020081024e-06, 3.43501162697954e-06, 3.401805687877533e-06, 3.627556680067247e-06, 3.506545436838798e-06, 3.2013203303696426e-06, 3.408499156623771e-06, 3.204559349156395e-06, 3.3314198818655546e-06, 3.223278985503006e-06, 3.2029829259975654e-06, 3.1274103368845304e-06, 3.093178101443139e-06, 3.113238519222527e-06, 3.1966874496859035e-06, 3.1493028080081257e-06, 3.1024240964452834e-06, 3.1915510819211466e-06, 3.0761816923844055e-06, 3.0855887055311195e-06, 3.1393241249246936e-06, 3.0388836714704192e-06, 3.004276763463665e-06, 3.005970008062554e-06, 2.998868996840062e-06, 3.012095360375954e-06, 3.031634745648916e-06, 3.0180443700593016e-06, 2.8418661799448673e-07, 2.8418120521830064e-07, 2.8413154184021705e-07, 2.8412744756079425e-07, 2.8416889924851e-07, 2.841254351183661e-07, 2.8412018426283513e-07, 2.841003605483416e-07, 2.840964281895739e-07, 2.8411220388768896e-07, 2.8410341390926705e-07, 2.840909922818656e-07, 2.840813927001681e-07, 2.8408014359797125e-07, 2.840764425544252e-07, 2.8406249424656103e-07, 2.840696187553872e-07, 2.8406422911072325e-07, 2.8405631813014354e-07, 2.840342043949559e-07, 2.840209500327566e-07, 2.8406279495634915e-07, 2.8406843904775686e-07, 2.8406941057168774e-07, 2.8400841274774435e-07, 2.840410281939939e-07, 2.844400700828248e-07, 2.8441242791384024e-07, 2.8440451693326053e-07, 2.843819405676296e-07, 2.843706986478585e-07, 2.843493482529022e-07, 2.8434136787775605e-07, 2.843296170644973e-07, 2.84321474768696e-07, 2.8429339310079034e-07, 2.842991991128532e-07, 2.8427983802880293e-07, 2.842741245428287e-07, 2.842725747308438e-07, 2.8427164946995727e-07, 2.842608933121516e-07, 2.842511780728432e-07, 2.842498595760799e-07, 2.842508773630551e-07, 2.842452332716473e-07, 2.8424752329234144e-07, 2.8434280203213015e-07, 2.842333668007778e-07, 2.842335518529551e-07, 2.8423216396162534e-07, 2.842283241289463e-07, 2.842244842962673e-07, 2.8440440127564973e-07, 2.8428492696367873e-07, 2.843715545141785e-07, 2.8436244069444636e-07, 4.099960062032453e-07, 3.86234982796283e-07, 2.843220299252279e-07, 2.843112737674222e-07, 3.6657809284058184e-07, 3.6703928912946417e-07, 3.5301254227362766e-07, 3.4552035790270007e-07, 3.401405672672036e-07, 3.3849711888057936e-07, 3.30192786766515e-07, 3.293903773942088e-07, 2.8443549004143656e-07, 3.2706623770489916e-07, 3.2220609671479056e-07, 3.2099328787627155e-07, 3.212564783354402e-07, 3.2089467819729143e-07, 3.21390849347684e-07, 3.1231274468575107e-07, 3.182820652950892e-07, 3.1293084208946385e-07, 3.0946118315960686e-07, 3.1075319433001133e-07, 3.1140596588544624e-07, 3.071442373736898e-07, 3.0850555058449414e-07, 3.101387979698446e-07, 3.0893357627059505e-07, 3.0872918614076433e-07, 3.0823694734913947e-07, 3.0688345259282616e-07, 3.0558619056689074e-07], \"Total\": [718.0, 338.0, 468.0, 376.0, 302.0, 324.0, 412.0, 334.0, 406.0, 744.0, 193.0, 358.0, 176.0, 156.0, 134.0, 171.0, 157.0, 174.0, 306.0, 140.0, 163.0, 267.0, 100.0, 167.0, 105.0, 114.0, 131.0, 90.0, 118.0, 193.0, 100.09651119180731, 86.81231166966265, 718.6883600877034, 140.86654265719903, 22.29268955920668, 73.55242011433792, 61.176409231635866, 105.83669202532042, 16.598994855661275, 15.650137399584576, 14.704402720679036, 32.72854098890875, 31.773172575937643, 77.34196506860117, 9.011144017286533, 9.005486164717208, 9.005657122763635, 9.005787962724927, 30.816647315160566, 9.005734888955613, 27.97912714626714, 28.92728140459387, 47.896728696262514, 25.12443111391488, 7.113585515142612, 7.113422468345317, 7.113455208158002, 7.113495531273858, 25.16328440423903, 6.164874740968421, 33.69985384721983, 22.285644847663406, 48.83793569910181, 33.695253905940355, 20.388012523522214, 60.20620960572674, 160.6421330442412, 120.76842899578499, 27.013143645185046, 34.619090070672925, 744.7620142408505, 164.23372988321083, 193.65837390644012, 107.89893857332692, 306.4351653665613, 64.84145957508241, 83.94650237350476, 358.79870086828595, 70.4795204078694, 406.1298751915232, 154.02761560787496, 147.95493777442962, 468.14491850511456, 267.46195936749825, 156.37159884383254, 334.69423404795276, 94.27944785560663, 123.6237073161023, 46.226184873721344, 73.41357906941914, 376.6426680601862, 9.232709988600261, 8.259003219139052, 7.2865223110713435, 7.2866702433674915, 7.284812871591906, 7.284619950567862, 6.312997830205544, 6.3131329157432665, 9.227255635857178, 5.339452776841281, 5.339337545452088, 5.339423835284344, 6.3101163853975555, 6.309952501059418, 6.309761704596313, 16.988994154873485, 16.00683623814703, 15.041831184387252, 8.249974985914339, 4.365374650622807, 4.365559383926765, 4.365488138047312, 65.51329993430006, 80.03551157830287, 23.76759708048669, 174.1160276574446, 5.3333715988169565, 38.294104114563645, 19.877510969827554, 128.21575576125645, 11.153459891749645, 28.584007573690034, 33.36504851239539, 15.984022713149143, 15.996598715396601, 21.797427800818188, 14.059561232473065, 114.30090353346671, 49.758259304285914, 49.71070928475128, 79.46837052448915, 41.06826324397224, 45.8279154554775, 24.613724267558794, 18.871965298900296, 167.38573102610337, 20.79492045080439, 66.91444306914056, 39.05154546056242, 58.16296441447009, 108.78450259413081, 36.13654122847907, 32.306339307943034, 42.727250530818274, 120.93686465349819, 36.04469406410734, 57.752185305969455, 32.24459961309784, 156.37159884383254, 56.00417596833376, 68.05348700713958, 193.48279266932818, 43.04990044463998, 64.79717159540817, 156.60149489725075, 15.609599530448664, 18.448407944751736, 17.501881836555455, 15.59591754865529, 28.87466279883123, 324.1271410901751, 53.44360903940161, 83.75162140872787, 18.451213854027923, 9.933455968107225, 10.865823695707286, 16.559322683528475, 9.933054795965012, 13.720823486661248, 171.19674293356616, 18.454098396127147, 7.090123588166075, 10.883191333318157, 157.61365456012928, 6.149124645059114, 48.767702827027456, 18.476543439391182, 21.320060829528202, 5.203270434639312, 8.990760076634585, 8.990675498898963, 36.42229991727004, 17.611099766320702, 334.69423404795276, 30.766973505513366, 118.8297927387142, 163.56001186964266, 33.49650468815428, 101.81206435472902, 119.238449283226, 123.6237073161023, 105.15546335347304, 412.58508953633606, 358.79870086828595, 267.46195936749825, 111.99112866900549, 94.27944785560663, 86.69033352813173, 744.7620142408505, 154.02761560787496, 306.4351653665613, 78.64850388331071, 63.69161149490985, 83.089626540297, 71.9368065445666, 338.23130216131085, 90.9868320884836, 134.87987037147158, 86.3520939505369, 302.01513715030444, 21.006825605036155, 82.74687592923559, 18.251863395769142, 114.47445976829206, 9.814807495916053, 8.909206942000784, 21.037810945944464, 26.69747253641635, 7.949172384128953, 7.9488498044990585, 55.675642874476885, 22.90431221024534, 33.204831579874394, 32.30975983372753, 7.017052659064195, 7.043067225248546, 16.363608465646227, 24.83849867000135, 10.752677734142713, 6.077979395465694, 6.0841313234029695, 6.083648200843945, 6.082989386521468, 6.08275304764647, 9.828605707510283, 13.59843299946684, 16.38232053659198, 468.14491850511456, 19.297395938681216, 412.58508953633606, 92.44592789893062, 25.788177871982654, 23.05371803403577, 83.089626540297, 15.462195866387383, 36.1508445564285, 45.57349950261773, 60.617979654709025, 71.9368065445666, 267.46195936749825, 21.103252004609413, 119.238449283226, 744.7620142408505, 78.64850388331071, 105.15546335347304, 156.37159884383254, 63.00498079331133, 72.96083006862193, 176.49570374653675, 26.829568451605372, 63.53601001638355, 17.412571306260602, 28.704796711326605, 7.062539985068382, 7.0630135058739665, 7.062705541093795, 40.116512618499485, 26.819017183632592, 25.959468216019395, 14.628128196551351, 84.21150046965039, 14.599564247145691, 33.41513666310703, 10.835684875178497, 14.579379982817473, 8.954010013836898, 61.82613225733436, 7.094880424793066, 7.095202408145184, 6.113441171090859, 4.239790941051775, 27.739014831587472, 6.1262752143312165, 6.153579997600805, 7.053153531320985, 8.05028230656539, 13.627011013611257, 113.8534981918436, 17.5500195789052, 13.627430012413384, 131.6682479385258, 15.571401707440772, 14.644066033843153, 20.40416306457692, 34.43202196194166, 32.63851660115512, 64.22310291107924, 21.164924442518096, 406.1298751915232, 46.67355026148277, 37.342925854829716, 39.169264736147234, 167.38573102610337, 120.93686465349819, 147.95493777442962, 56.87965524755497, 111.99112866900549, 63.69161149490985, 193.65837390644012, 79.46837052448915, 156.37159884383254, 2.339915494209063, 2.340204804692645, 2.3398447251237777, 2.339787735447544, 2.339821475407246, 2.340307266276699, 2.339831226938999, 2.3399686198187046, 2.339905706060121, 2.339827871883821, 2.339875918104921, 2.3399270606222617, 2.3398288041278574, 2.339912407389506, 2.339927171421184, 2.3399391118421615, 2.3399326833438785, 2.339969663558012, 2.339887235611853, 2.3402566752541114, 2.339856524033676, 2.3403149368395564, 2.339904715204013, 2.339978603253772, 2.339929870464678, 2.3403435069228617, 2.3461275887775854, 2.346095036250309, 2.3459320392882748, 2.346164761513784, 2.3462969654648402, 2.3462591229325835, 2.3462660507707898, 2.3462173631499286, 2.3504885418570245, 2.350553234026163, 2.359117591018802, 2.3592062602988513, 2.3590878448196757, 2.3591030446121404, 2.359158547981313, 2.3499038023436096, 2.3505758436667374, 2.346275296806692, 2.358459944882429, 2.3591314447904597, 2.3591329913943877, 2.35057211081608, 2.364553901246359, 2.3592198078581146, 2.3591407071533057, 718.6883600877034, 744.7620142408505, 334.69423404795276, 2.360066437208519, 2.3591698344311918, 324.1271410901751, 412.58508953633606, 306.4351653665613, 468.14491850511456, 2.3592107135675793, 2.3591816124257448, 2.3592101828900223, 358.79870086828595, 267.46195936749825, 406.1298751915232, 338.23130216131085, 302.01513715030444, 123.6237073161023, 156.60149489725075, 193.48279266932818, 118.8297927387142, 160.6421330442412, 167.38573102610337, 193.65837390644012, 119.238449283226, 111.99112866900549, 171.19674293356616, 154.02761560787496, 134.87987037147158, 157.61365456012928, 376.6426680601862, 176.49570374653675, 174.1160276574446, 164.23372988321083, 163.56001186964266, 2.340307266276699, 2.339912407389506, 2.3399686198187046, 2.339856524033676, 2.3402566752541114, 2.3399326833438785, 2.339929870464678, 2.340204804692645, 2.3398447251237777, 2.3398288041278574, 2.339831226938999, 2.339787735447544, 2.339875918104921, 2.339827871883821, 2.339969663558012, 2.339904715204013, 2.339978603253772, 2.339927171421184, 2.3399391118421615, 2.339905706060121, 2.3403149368395564, 2.3399270606222617, 2.339821475407246, 2.339915494209063, 2.339887235611853, 2.3403435069228617, 2.3463621686688207, 2.3461328700512567, 2.346179233734322, 2.346072080282946, 2.346249003192766, 2.3460073290875894, 2.3460077245882145, 2.346153684619454, 2.3461558366750244, 2.3462352806422597, 2.3462322299139156, 2.346344398554659, 2.3462342252793733, 2.3462660507707898, 2.3462860747688516, 2.3463201035980794, 2.3462522821562626, 2.3460924168080823, 2.3463379026799633, 2.359991463464298, 2.3515462412222496, 2.351497489044983, 2.3513408336134285, 2.3461275887775854, 2.3462056772539515, 2.359943101896739, 2.3599710651490238, 2.3600790342179674, 2.3601409067804817, 2.360039847871927, 2.360076678573903, 2.3515541649414584, 2.3514737514245487, 2.360164817105931, 2.3514029620404053, 2.3601372505321137, 2.3601467678662464, 2.3601061703459747, 2.36005075613257, 718.6883600877034, 744.7620142408505, 2.3601317732454166, 2.3600184723436675, 2.3600759359937262, 2.3602015756041665, 468.14491850511456, 2.360144208510407, 2.359967866482777, 358.79870086828595, 412.58508953633606, 406.1298751915232, 338.23130216131085, 306.4351653665613, 176.49570374653675, 302.01513715030444, 334.69423404795276, 267.46195936749825, 376.6426680601862, 140.86654265719903, 193.65837390644012, 324.1271410901751, 131.6682479385258, 167.38573102610337, 113.8534981918436, 156.37159884383254, 154.02761560787496, 100.09651119180731, 86.81231166966265, 163.56001186964266, 157.61365456012928, 105.83669202532042, 77.34196506860117, 107.89893857332692, 134.87987037147158, 147.95493777442962, 174.1160276574446, 2.339912407389506, 2.3399391118421615, 2.339787735447544, 2.339856524033676, 2.339831226938999, 2.3402566752541114, 2.339827871883821, 2.339821475407246, 2.3399270606222617, 2.340204804692645, 2.339915494209063, 2.339929870464678, 2.339887235611853, 2.339905706060121, 2.339875918104921, 2.3403149368395564, 2.3399326833438785, 2.3399686198187046, 2.339969663558012, 2.339904715204013, 2.339927171421184, 2.3398288041278574, 2.3398447251237777, 2.339978603253772, 2.3403435069228617, 2.340307266276699, 2.3462864064122932, 2.3461006323862565, 2.3460077245882145, 2.3462660507707898, 2.3462056772539515, 2.3503770584129664, 2.358416484240768, 2.358453896742636, 2.3584098885328624, 2.3601779518678603, 2.360007566534028, 2.3584472240312824, 2.3585125034994316, 2.3585147127177186, 718.6883600877034, 744.7620142408505, 406.1298751915232, 2.3591432082982347, 2.3600761977587723, 358.79870086828595, 412.58508953633606, 376.6426680601862, 334.69423404795276, 2.36455847658403, 468.14491850511456, 193.65837390644012, 306.4351653665613, 324.1271410901751, 267.46195936749825, 120.93686465349819, 176.49570374653675, 160.6421330442412, 140.86654265719903, 163.56001186964266, 193.48279266932818, 154.02761560787496, 164.23372988321083, 147.95493777442962, 105.83669202532042, 118.8297927387142, 174.1160276574446, 156.37159884383254, 302.01513715030444, 120.76842899578499, 338.23130216131085, 131.6682479385258, 101.81206435472902, 2.3459824410400816, 2.3459320392882748, 2.3460073290875894, 2.346073379123611, 2.345974863616469, 2.3460077245882145, 2.346014970943262, 2.3460851454430647, 2.3461300826555003, 2.3461364978886854, 2.3461006323862565, 2.3461020780219726, 2.3461922570632154, 2.346170472938688, 2.34618366205169, 2.346072080282946, 2.3461328700512567, 2.3460924168080823, 2.3461678527971874, 2.3461275887775854, 2.3461558366750244, 2.346153684619454, 2.346164761513784, 2.346095036250309, 2.3462342252793733, 2.346104702738885, 2.3462322299139156, 2.346189024981973, 2.346213547443115, 2.346189359484624, 2.3511234965871255, 338.23130216131085, 468.14491850511456, 302.01513715030444, 412.58508953633606, 176.49570374653675, 744.7620142408505, 114.47445976829206, 134.87987037147158, 718.6883600877034, 376.6426680601862, 82.74687592923559, 406.1298751915232, 90.9868320884836, 267.46195936749825, 167.38573102610337, 156.37159884383254, 86.3520939505369, 83.089626540297, 113.8534981918436, 306.4351653665613, 193.65837390644012, 119.238449283226, 358.79870086828595, 108.78450259413081, 131.6682479385258, 334.69423404795276, 92.44592789893062, 56.87965524755497, 61.82613225733436, 55.675642874476885, 84.21150046965039, 324.1271410901751, 147.95493777442962, 2.339827871883821, 2.339929870464678, 2.3398288041278574, 2.339887235611853, 2.340307266276699, 2.339969663558012, 2.339927171421184, 2.339821475407246, 2.339831226938999, 2.339978603253772, 2.3399270606222617, 2.339912407389506, 2.3399391118421615, 2.3399326833438785, 2.339915494209063, 2.3398447251237777, 2.339905706060121, 2.339904715204013, 2.339875918104921, 2.339856524033676, 2.339787735447544, 2.340204804692645, 2.3403149368395564, 2.3403435069228617, 2.3399686198187046, 2.3402566752541114, 2.346104702738885, 2.345974863616469, 2.346095036250309, 2.346014970943262, 2.3460924168080823, 2.346072080282946, 2.3462969654648402, 2.3462352806422597, 2.346396235109436, 2.3461020780219726, 2.346360014610535, 2.346369560367911, 2.3462173631499286, 2.3462061999805104, 2.3462860747688516, 2.3460851454430647, 2.346164761513784, 2.346189359484624, 2.3462864064122932, 2.3461006323862565, 2.3463277512757714, 2.3511234965871255, 2.3461922570632154, 2.34642513779589, 2.3463571666377976, 2.346179233734322, 2.3462056772539515, 2.359039328310297, 2.350586159027235, 2.3591385832636576, 2.3584045705363565, 744.7620142408505, 718.6883600877034, 2.359107464487141, 2.358346450699743, 412.58508953633606, 468.14491850511456, 376.6426680601862, 338.23130216131085, 334.69423404795276, 406.1298751915232, 306.4351653665613, 302.01513715030444, 2.386199861855639, 324.1271410901751, 174.1160276574446, 167.38573102610337, 176.49570374653675, 193.48279266932818, 267.46195936749825, 131.6682479385258, 358.79870086828595, 156.37159884383254, 119.238449283226, 154.02761560787496, 171.19674293356616, 90.9868320884836, 114.47445976829206, 193.65837390644012, 156.60149489725075, 164.23372988321083, 157.61365456012928, 128.21575576125645, 108.78450259413081], \"Category\": [\"Default\", \"Default\", \"Default\", \"Default\", \"Default\", \"Default\", \"Default\", \"Default\", \"Default\", \"Default\", \"Default\", \"Default\", \"Default\", \"Default\", \"Default\", \"Default\", \"Default\", \"Default\", \"Default\", \"Default\", \"Default\", \"Default\", \"Default\", \"Default\", \"Default\", \"Default\", \"Default\", \"Default\", \"Default\", \"Default\", \"Topic1\", \"Topic1\", \"Topic1\", \"Topic1\", \"Topic1\", \"Topic1\", \"Topic1\", \"Topic1\", \"Topic1\", \"Topic1\", \"Topic1\", \"Topic1\", \"Topic1\", \"Topic1\", \"Topic1\", \"Topic1\", \"Topic1\", \"Topic1\", \"Topic1\", \"Topic1\", \"Topic1\", \"Topic1\", \"Topic1\", \"Topic1\", \"Topic1\", \"Topic1\", \"Topic1\", \"Topic1\", \"Topic1\", \"Topic1\", \"Topic1\", \"Topic1\", \"Topic1\", \"Topic1\", \"Topic1\", \"Topic1\", \"Topic1\", \"Topic1\", \"Topic1\", \"Topic1\", \"Topic1\", \"Topic1\", \"Topic1\", \"Topic1\", \"Topic1\", \"Topic1\", \"Topic1\", \"Topic1\", \"Topic1\", \"Topic1\", \"Topic1\", \"Topic1\", \"Topic1\", \"Topic1\", \"Topic1\", \"Topic1\", \"Topic1\", \"Topic1\", \"Topic2\", \"Topic2\", \"Topic2\", \"Topic2\", \"Topic2\", \"Topic2\", \"Topic2\", \"Topic2\", \"Topic2\", \"Topic2\", \"Topic2\", \"Topic2\", \"Topic2\", \"Topic2\", \"Topic2\", \"Topic2\", \"Topic2\", \"Topic2\", \"Topic2\", \"Topic2\", \"Topic2\", \"Topic2\", \"Topic2\", \"Topic2\", \"Topic2\", \"Topic2\", \"Topic2\", \"Topic2\", \"Topic2\", \"Topic2\", \"Topic2\", \"Topic2\", \"Topic2\", \"Topic2\", \"Topic2\", \"Topic2\", \"Topic2\", \"Topic2\", \"Topic2\", \"Topic2\", \"Topic2\", \"Topic2\", \"Topic2\", \"Topic2\", \"Topic2\", \"Topic2\", \"Topic2\", \"Topic2\", \"Topic2\", \"Topic2\", \"Topic2\", \"Topic2\", \"Topic2\", \"Topic2\", \"Topic2\", \"Topic2\", \"Topic2\", \"Topic2\", \"Topic2\", \"Topic2\", \"Topic2\", \"Topic2\", \"Topic2\", \"Topic2\", \"Topic3\", \"Topic3\", \"Topic3\", \"Topic3\", \"Topic3\", \"Topic3\", \"Topic3\", \"Topic3\", \"Topic3\", \"Topic3\", \"Topic3\", \"Topic3\", \"Topic3\", \"Topic3\", \"Topic3\", \"Topic3\", \"Topic3\", \"Topic3\", \"Topic3\", \"Topic3\", \"Topic3\", \"Topic3\", \"Topic3\", \"Topic3\", \"Topic3\", \"Topic3\", \"Topic3\", \"Topic3\", \"Topic3\", \"Topic3\", \"Topic3\", \"Topic3\", \"Topic3\", \"Topic3\", \"Topic3\", \"Topic3\", \"Topic3\", \"Topic3\", \"Topic3\", \"Topic3\", \"Topic3\", \"Topic3\", \"Topic3\", \"Topic3\", \"Topic3\", \"Topic3\", \"Topic3\", \"Topic3\", \"Topic3\", \"Topic3\", \"Topic3\", \"Topic3\", \"Topic3\", \"Topic3\", \"Topic4\", \"Topic4\", \"Topic4\", \"Topic4\", \"Topic4\", \"Topic4\", \"Topic4\", \"Topic4\", \"Topic4\", \"Topic4\", \"Topic4\", \"Topic4\", \"Topic4\", \"Topic4\", \"Topic4\", \"Topic4\", \"Topic4\", \"Topic4\", \"Topic4\", \"Topic4\", \"Topic4\", \"Topic4\", \"Topic4\", \"Topic4\", \"Topic4\", \"Topic4\", \"Topic4\", \"Topic4\", \"Topic4\", \"Topic4\", \"Topic4\", \"Topic4\", \"Topic4\", \"Topic4\", \"Topic4\", \"Topic4\", \"Topic4\", \"Topic4\", \"Topic4\", \"Topic4\", \"Topic4\", \"Topic4\", \"Topic4\", \"Topic4\", \"Topic4\", \"Topic4\", \"Topic4\", \"Topic4\", \"Topic4\", \"Topic4\", \"Topic4\", \"Topic4\", \"Topic5\", \"Topic5\", \"Topic5\", \"Topic5\", \"Topic5\", \"Topic5\", \"Topic5\", \"Topic5\", \"Topic5\", \"Topic5\", \"Topic5\", \"Topic5\", \"Topic5\", \"Topic5\", \"Topic5\", \"Topic5\", \"Topic5\", \"Topic5\", \"Topic5\", \"Topic5\", \"Topic5\", \"Topic5\", \"Topic5\", \"Topic5\", \"Topic5\", \"Topic5\", \"Topic5\", \"Topic5\", \"Topic5\", \"Topic5\", \"Topic5\", \"Topic5\", \"Topic5\", \"Topic5\", \"Topic5\", \"Topic5\", \"Topic5\", \"Topic5\", \"Topic5\", \"Topic5\", \"Topic5\", \"Topic5\", \"Topic5\", \"Topic5\", \"Topic5\", \"Topic5\", \"Topic5\", \"Topic5\", \"Topic5\", \"Topic5\", \"Topic5\", \"Topic5\", \"Topic5\", \"Topic5\", \"Topic6\", \"Topic6\", \"Topic6\", \"Topic6\", \"Topic6\", \"Topic6\", \"Topic6\", \"Topic6\", \"Topic6\", \"Topic6\", \"Topic6\", \"Topic6\", \"Topic6\", \"Topic6\", \"Topic6\", \"Topic6\", \"Topic6\", \"Topic6\", \"Topic6\", \"Topic6\", \"Topic6\", \"Topic6\", \"Topic6\", \"Topic6\", \"Topic6\", \"Topic6\", \"Topic6\", \"Topic6\", \"Topic6\", \"Topic6\", \"Topic6\", \"Topic6\", \"Topic6\", \"Topic6\", \"Topic6\", \"Topic6\", \"Topic6\", \"Topic6\", \"Topic6\", \"Topic6\", \"Topic6\", \"Topic6\", \"Topic6\", \"Topic6\", \"Topic6\", \"Topic6\", \"Topic6\", \"Topic6\", \"Topic6\", \"Topic6\", \"Topic6\", \"Topic6\", \"Topic6\", \"Topic6\", \"Topic6\", \"Topic6\", \"Topic6\", \"Topic6\", \"Topic6\", \"Topic6\", \"Topic6\", \"Topic6\", \"Topic6\", \"Topic6\", \"Topic6\", \"Topic6\", \"Topic6\", \"Topic6\", \"Topic6\", \"Topic6\", \"Topic6\", \"Topic6\", \"Topic6\", \"Topic6\", \"Topic6\", \"Topic6\", \"Topic6\", \"Topic6\", \"Topic6\", \"Topic6\", \"Topic6\", \"Topic6\", \"Topic6\", \"Topic6\", \"Topic6\", \"Topic6\", \"Topic7\", \"Topic7\", \"Topic7\", \"Topic7\", \"Topic7\", \"Topic7\", \"Topic7\", \"Topic7\", \"Topic7\", \"Topic7\", \"Topic7\", \"Topic7\", \"Topic7\", \"Topic7\", \"Topic7\", \"Topic7\", \"Topic7\", \"Topic7\", \"Topic7\", \"Topic7\", \"Topic7\", \"Topic7\", \"Topic7\", \"Topic7\", \"Topic7\", \"Topic7\", \"Topic7\", \"Topic7\", \"Topic7\", \"Topic7\", \"Topic7\", \"Topic7\", \"Topic7\", \"Topic7\", \"Topic7\", \"Topic7\", \"Topic7\", \"Topic7\", \"Topic7\", \"Topic7\", \"Topic7\", \"Topic7\", \"Topic7\", \"Topic7\", \"Topic7\", \"Topic7\", \"Topic7\", \"Topic7\", \"Topic7\", \"Topic7\", \"Topic7\", \"Topic7\", \"Topic7\", \"Topic7\", \"Topic7\", \"Topic7\", \"Topic7\", \"Topic7\", \"Topic7\", \"Topic7\", \"Topic7\", \"Topic7\", \"Topic7\", \"Topic7\", \"Topic7\", \"Topic7\", \"Topic7\", \"Topic7\", \"Topic7\", \"Topic7\", \"Topic7\", \"Topic7\", \"Topic7\", \"Topic7\", \"Topic7\", \"Topic7\", \"Topic7\", \"Topic7\", \"Topic7\", \"Topic7\", \"Topic7\", \"Topic7\", \"Topic7\", \"Topic7\", \"Topic7\", \"Topic7\", \"Topic7\", \"Topic7\", \"Topic7\", \"Topic7\", \"Topic7\", \"Topic7\", \"Topic7\", \"Topic7\", \"Topic7\", \"Topic7\", \"Topic7\", \"Topic7\", \"Topic7\", \"Topic7\", \"Topic7\", \"Topic7\", \"Topic8\", \"Topic8\", \"Topic8\", \"Topic8\", \"Topic8\", \"Topic8\", \"Topic8\", \"Topic8\", \"Topic8\", \"Topic8\", \"Topic8\", \"Topic8\", \"Topic8\", \"Topic8\", \"Topic8\", \"Topic8\", \"Topic8\", \"Topic8\", \"Topic8\", \"Topic8\", \"Topic8\", \"Topic8\", \"Topic8\", \"Topic8\", \"Topic8\", \"Topic8\", \"Topic8\", \"Topic8\", \"Topic8\", \"Topic8\", \"Topic8\", \"Topic8\", \"Topic8\", \"Topic8\", \"Topic8\", \"Topic8\", \"Topic8\", \"Topic8\", \"Topic8\", \"Topic8\", \"Topic8\", \"Topic8\", \"Topic8\", \"Topic8\", \"Topic8\", \"Topic8\", \"Topic8\", \"Topic8\", \"Topic8\", \"Topic8\", \"Topic8\", \"Topic8\", \"Topic8\", \"Topic8\", \"Topic8\", \"Topic8\", \"Topic8\", \"Topic8\", \"Topic8\", \"Topic8\", \"Topic8\", \"Topic8\", \"Topic8\", \"Topic8\", \"Topic8\", \"Topic8\", \"Topic8\", \"Topic8\", \"Topic8\", \"Topic8\", \"Topic8\", \"Topic8\", \"Topic8\", \"Topic9\", \"Topic9\", \"Topic9\", \"Topic9\", \"Topic9\", \"Topic9\", \"Topic9\", \"Topic9\", \"Topic9\", \"Topic9\", \"Topic9\", \"Topic9\", \"Topic9\", \"Topic9\", \"Topic9\", \"Topic9\", \"Topic9\", \"Topic9\", \"Topic9\", \"Topic9\", \"Topic9\", \"Topic9\", \"Topic9\", \"Topic9\", \"Topic9\", \"Topic9\", \"Topic9\", \"Topic9\", \"Topic9\", \"Topic9\", \"Topic9\", \"Topic9\", \"Topic9\", \"Topic9\", \"Topic9\", \"Topic9\", \"Topic9\", \"Topic9\", \"Topic9\", \"Topic9\", \"Topic9\", \"Topic9\", \"Topic9\", \"Topic9\", \"Topic9\", \"Topic9\", \"Topic9\", \"Topic9\", \"Topic9\", \"Topic9\", \"Topic9\", \"Topic9\", \"Topic9\", \"Topic9\", \"Topic9\", \"Topic9\", \"Topic9\", \"Topic9\", \"Topic9\", \"Topic9\", \"Topic9\", \"Topic9\", \"Topic9\", \"Topic9\", \"Topic10\", \"Topic10\", \"Topic10\", \"Topic10\", \"Topic10\", \"Topic10\", \"Topic10\", \"Topic10\", \"Topic10\", \"Topic10\", \"Topic10\", \"Topic10\", \"Topic10\", \"Topic10\", \"Topic10\", \"Topic10\", \"Topic10\", \"Topic10\", \"Topic10\", \"Topic10\", \"Topic10\", \"Topic10\", \"Topic10\", \"Topic10\", \"Topic10\", \"Topic10\", \"Topic10\", \"Topic10\", \"Topic10\", \"Topic10\", \"Topic10\", \"Topic10\", \"Topic10\", \"Topic10\", \"Topic10\", \"Topic10\", \"Topic10\", \"Topic10\", \"Topic10\", \"Topic10\", \"Topic10\", \"Topic10\", \"Topic10\", \"Topic10\", \"Topic10\", \"Topic10\", \"Topic10\", \"Topic10\", \"Topic10\", \"Topic10\", \"Topic10\", \"Topic10\", \"Topic10\", \"Topic10\", \"Topic10\", \"Topic10\", \"Topic10\", \"Topic10\", \"Topic10\", \"Topic10\", \"Topic10\", \"Topic10\", \"Topic10\", \"Topic10\", \"Topic10\", \"Topic10\", \"Topic10\", \"Topic10\", \"Topic10\", \"Topic10\", \"Topic10\", \"Topic10\", \"Topic10\", \"Topic10\", \"Topic10\", \"Topic10\", \"Topic10\", \"Topic10\", \"Topic10\", \"Topic10\", \"Topic10\", \"Topic10\", \"Topic10\", \"Topic10\", \"Topic10\", \"Topic10\", \"Topic10\", \"Topic10\", \"Topic10\", \"Topic10\"], \"logprob\": [30.0, 29.0, 28.0, 27.0, 26.0, 25.0, 24.0, 23.0, 22.0, 21.0, 20.0, 19.0, 18.0, 17.0, 16.0, 15.0, 14.0, 13.0, 12.0, 11.0, 10.0, 9.0, 8.0, 7.0, 6.0, 5.0, 4.0, 3.0, 2.0, 1.0, -5.1784, -5.3214, -3.2159, -4.8491, -6.694, -5.5014, -5.6887, -5.1411, -6.9948, -7.0561, -7.1187, -6.3234, -6.3646, -5.4753, -7.6254, -7.6261, -7.6261, -7.6262, -6.3962, -7.6265, -6.4976, -6.4651, -5.9634, -6.6106, -7.8736, -7.8736, -7.8736, -7.8736, -6.6126, -8.0254, -6.3291, -6.741, -5.9659, -6.3346, -6.8362, -5.7795, -4.8404, -5.1282, -6.5741, -6.3414, -3.4695, -4.8953, -4.7486, -5.3157, -4.41, -5.7995, -5.5765, -4.3483, -5.7581, -4.3567, -5.1558, -5.3245, -4.5812, -5.1922, -5.5797, -5.2702, -5.854, -5.7355, -5.4481, -5.0105, -3.3786, -7.0955, -7.2137, -7.3411, -7.3411, -7.3482, -7.3487, -7.4932, -7.4932, -7.1172, -7.6726, -7.6727, -7.6728, -7.5076, -7.5077, -7.5089, -6.5215, -6.5857, -6.6542, -7.2553, -7.892, -7.8921, -7.8922, -5.1897, -4.9954, -6.2103, -4.223, -7.7131, -5.7426, -6.4045, -4.6344, -6.9879, -6.098, -5.973, -6.6542, -6.6542, -6.3711, -6.7752, -4.9018, -5.6601, -5.6706, -5.2678, -5.8482, -5.7583, -6.2996, -6.5314, -4.7295, -6.4613, -5.536, -5.9756, -5.6793, -5.2067, -6.0508, -6.1359, -5.9852, -5.3382, -6.1526, -5.9729, -6.2122, -5.6709, -6.1264, -6.1607, -3.7861, -5.3121, -4.9168, -4.0368, -6.3551, -6.1972, -6.2539, -6.3776, -5.7743, -3.3571, -5.168, -4.7202, -6.2346, -6.8608, -6.7797, -6.3594, -6.8858, -6.5926, -4.0733, -6.3175, -7.2838, -6.8686, -4.1965, -7.4424, -5.3916, -6.3693, -6.2496, -7.6622, -7.1171, -7.1172, -5.7258, -6.446, -3.5407, -5.9007, -4.6045, -4.3307, -5.8694, -4.8965, -4.7597, -4.8427, -5.0206, -4.0551, -4.192, -4.5109, -5.1328, -5.2685, -5.3569, -4.2486, -5.0892, -4.7271, -5.6171, -5.7085, -5.6727, -5.7095, -3.1378, -4.4563, -4.079, -4.5319, -3.2845, -5.9724, -4.6636, -6.1826, -4.3479, -6.8135, -6.9299, -6.072, -5.8391, -7.0616, -7.0617, -5.1275, -6.0207, -5.6508, -5.6857, -7.2132, -7.2135, -6.3752, -5.9724, -6.8135, -7.3927, -7.3923, -7.3924, -7.3926, -7.3926, -6.9299, -6.6145, -6.4489, -3.3008, -6.3068, -3.4875, -4.8926, -6.0717, -6.1823, -5.0876, -6.5283, -5.8816, -5.7219, -5.5221, -5.4077, -4.6255, -6.3069, -5.463, -4.6888, -5.7217, -5.6168, -5.7594, -6.0207, -4.6904, -3.8158, -5.7097, -4.8488, -6.1703, -5.6735, -7.0786, -7.0785, -7.0795, -5.3432, -5.7474, -5.7865, -6.3632, -4.6136, -6.3673, -5.5405, -6.6968, -6.4368, -6.9432, -5.0159, -7.2011, -7.2011, -7.3802, -7.7474, -5.8695, -7.3802, -7.3801, -7.2519, -7.1244, -6.6096, -4.5404, -6.3631, -6.6098, -4.4191, -6.4825, -6.5448, -6.2306, -5.7487, -5.8311, -5.2437, -6.2305, -3.7883, -5.6048, -5.7866, -5.7692, -4.6992, -5.0775, -4.9595, -5.6647, -5.5404, -5.827, -5.4453, -5.8031, -5.5993, -8.6281, -8.6281, -8.6283, -8.6284, -8.6284, -8.6282, -8.6284, -8.6284, -8.6284, -8.6285, -8.6285, -8.6285, -8.6285, -8.6285, -8.6285, -8.6285, -8.6285, -8.6285, -8.6286, -8.6284, -8.6286, -8.6285, -8.6287, -8.6287, -8.6288, -8.6286, -8.6282, -8.6282, -8.6283, -8.6282, -8.6282, -8.6282, -8.6283, -8.6283, -8.628, -8.628, -8.6277, -8.6277, -8.6278, -8.6278, -8.6279, -8.6282, -8.6282, -8.6283, -8.628, -8.6279, -8.6279, -8.6282, -8.6279, -8.628, -8.628, -8.3488, -8.3484, -8.4281, -8.628, -8.628, -8.4358, -8.4644, -8.4737, -8.4683, -8.628, -8.628, -8.628, -8.4774, -8.4897, -8.4894, -8.4984, -8.5125, -8.5365, -8.5376, -8.5352, -8.5464, -8.5439, -8.5458, -8.5456, -8.5515, -8.5592, -8.556, -8.5573, -8.5609, -8.5611, -8.5539, -8.5625, -8.5628, -8.5634, -8.5657, -8.6285, -8.6288, -8.6288, -8.6289, -8.6287, -8.6288, -8.6289, -8.6288, -8.629, -8.629, -8.629, -8.629, -8.629, -8.629, -8.629, -8.629, -8.629, -8.6291, -8.6291, -8.6291, -8.6289, -8.6291, -8.6292, -8.6292, -8.6292, -8.6291, -8.6278, -8.6282, -8.6282, -8.6282, -8.6282, -8.6283, -8.6284, -8.6284, -8.6284, -8.6284, -8.6284, -8.6284, -8.6284, -8.6284, -8.6284, -8.6284, -8.6284, -8.6285, -8.6285, -8.6274, -8.628, -8.6281, -8.6282, -8.6285, -8.6285, -8.6278, -8.6278, -8.6278, -8.6278, -8.6278, -8.6279, -8.6282, -8.6282, -8.6279, -8.6283, -8.628, -8.628, -8.628, -8.628, -8.2376, -8.2684, -8.628, -8.628, -8.628, -8.6281, -8.3647, -8.6281, -8.6281, -8.4453, -8.4418, -8.4586, -8.4662, -8.485, -8.4994, -8.4943, -8.498, -8.5047, -8.507, -8.5312, -8.5291, -8.52, -8.5434, -8.5432, -8.5575, -8.5556, -8.5585, -8.5655, -8.5672, -8.5616, -8.562, -8.5692, -8.5731, -8.5699, -8.5677, -8.567, -8.5655, -8.6282, -8.6282, -8.6284, -8.6284, -8.6285, -8.6283, -8.6285, -8.6285, -8.6285, -8.6284, -8.6286, -8.6286, -8.6286, -8.6286, -8.6287, -8.6285, -8.6287, -8.6287, -8.6287, -8.6288, -8.6288, -8.6289, -8.6289, -8.6289, -8.6288, -8.629, -8.6286, -8.6287, -8.6287, -8.6287, -8.6287, -8.6284, -8.628, -8.6281, -8.6281, -8.6281, -8.6282, -8.6282, -8.6283, -8.6283, -8.3118, -8.3241, -8.4087, -8.6283, -8.6283, -8.4519, -8.4694, -8.4723, -8.4788, -8.6283, -8.4795, -8.498, -8.4905, -8.5037, -8.51, -8.5469, -8.5399, -8.5418, -8.5457, -8.5434, -8.5426, -8.5477, -8.549, -8.5515, -8.5575, -8.5577, -8.5543, -8.5576, -8.5515, -8.5624, -8.5521, -8.5652, -8.5683, -8.6264, -8.6265, -8.6267, -8.6274, -8.6276, -8.6276, -8.6276, -8.6278, -8.628, -8.6282, -8.6283, -8.6283, -8.6284, -8.6285, -8.6285, -8.6286, -8.6285, -8.6286, -8.6287, -8.6287, -8.6287, -8.6288, -8.6289, -8.6289, -8.6289, -8.6289, -8.6289, -8.629, -8.6291, -8.6291, -8.6281, -7.9427, -8.1009, -8.1565, -8.2334, -8.3681, -8.2977, -8.3991, -8.4088, -8.3446, -8.3785, -8.4696, -8.4069, -8.4686, -8.4297, -8.4627, -8.4691, -8.4929, -8.5039, -8.4975, -8.471, -8.486, -8.5009, -8.4726, -8.5094, -8.5064, -8.4891, -8.5216, -8.5331, -8.5325, -8.5349, -8.5305, -8.524, -8.5285, -8.6294, -8.6294, -8.6295, -8.6296, -8.6294, -8.6296, -8.6296, -8.6297, -8.6297, -8.6296, -8.6296, -8.6297, -8.6297, -8.6297, -8.6297, -8.6298, -8.6298, -8.6298, -8.6298, -8.6299, -8.6299, -8.6298, -8.6298, -8.6298, -8.63, -8.6299, -8.6285, -8.6286, -8.6286, -8.6287, -8.6287, -8.6288, -8.6288, -8.6289, -8.6289, -8.629, -8.629, -8.629, -8.629, -8.6291, -8.6291, -8.6291, -8.6291, -8.6291, -8.6291, -8.6291, -8.6291, -8.6288, -8.6292, -8.6292, -8.6292, -8.6292, -8.6292, -8.6286, -8.629, -8.6287, -8.6287, -8.2628, -8.3225, -8.6289, -8.6289, -8.3748, -8.3735, -8.4125, -8.4339, -8.4496, -8.4545, -8.4793, -8.4817, -8.6285, -8.4888, -8.5038, -8.5076, -8.5067, -8.5079, -8.5063, -8.535, -8.516, -8.533, -8.5442, -8.54, -8.5379, -8.5517, -8.5472, -8.542, -8.5459, -8.5465, -8.5481, -8.5525, -8.5568], \"loglift\": [30.0, 29.0, 28.0, 27.0, 26.0, 25.0, 24.0, 23.0, 22.0, 21.0, 20.0, 19.0, 18.0, 17.0, 16.0, 15.0, 14.0, 13.0, 12.0, 11.0, 10.0, 9.0, 8.0, 7.0, 6.0, 5.0, 4.0, 3.0, 2.0, 1.0, 1.0774, 1.0768, 1.0686, 1.0651, 1.0637, 1.0626, 1.0595, 1.059, 1.0579, 1.0554, 1.0551, 1.0503, 1.0388, 1.0384, 1.0381, 1.038, 1.038, 1.0379, 1.0377, 1.0376, 1.0329, 1.0321, 1.0295, 1.0276, 1.0264, 1.0264, 1.0264, 1.0264, 1.024, 1.0177, 1.0154, 1.017, 1.0076, 1.01, 1.0108, 0.9847, 0.9424, 0.9399, 0.9915, 0.9762, 0.7794, 0.8654, 0.8473, 0.8651, 0.727, 0.8906, 0.8552, 0.6309, 0.8485, 0.4986, 0.669, 0.5406, 0.132, 0.0808, 0.23, -0.2215, 0.4617, 0.3093, 1.5803, 1.5554, 1.5521, 1.5437, 1.537, 1.5349, 1.5349, 1.528, 1.5275, 1.5262, 1.5262, 1.5226, 1.5143, 1.5141, 1.5141, 1.5122, 1.5122, 1.5109, 1.5079, 1.5033, 1.4969, 1.4965, 1.4963, 1.4962, 1.4961, 1.49, 1.4841, 1.4834, 1.4792, 1.4749, 1.4741, 1.4679, 1.3739, 1.4624, 1.4111, 1.3815, 1.4362, 1.4354, 1.409, 1.4434, 1.2213, 1.2947, 1.2851, 1.2188, 1.2986, 1.2788, 1.359, 1.3929, 1.0121, 1.366, 1.1226, 1.2215, 1.1194, 0.9659, 1.2239, 1.2508, 1.122, 0.7285, 1.1246, 0.8329, 1.1764, 0.1389, 0.7102, 0.481, 1.8107, 1.7875, 1.7739, 1.7714, 1.759, 1.7498, 1.7457, 1.7374, 1.7247, 1.7237, 1.7153, 1.7139, 1.7122, 1.7053, 1.6967, 1.6956, 1.6803, 1.6505, 1.6459, 1.6292, 1.6194, 1.6062, 1.6053, 1.6032, 1.5833, 1.5762, 1.5527, 1.5505, 1.5487, 1.5486, 1.541, 1.5474, 1.508, 1.5349, 1.4798, 1.4341, 1.4811, 1.3424, 1.3212, 1.202, 1.186, 0.7845, 0.7872, 0.7621, 1.0107, 1.0472, 1.0427, 0.0003, 0.7357, 0.4099, 0.8799, 0.9994, 0.7693, 0.8767, 1.9004, 1.895, 1.8786, 1.8717, 1.867, 1.8447, 1.7826, 1.7751, 1.7737, 1.7646, 1.745, 1.7437, 1.7383, 1.7273, 1.7272, 1.715, 1.7099, 1.7085, 1.7009, 1.7004, 1.6964, 1.6917, 1.6772, 1.6733, 1.6646, 1.664, 1.664, 1.6639, 1.6639, 1.6468, 1.6376, 1.6169, 1.4124, 1.5952, 1.352, 1.4427, 1.5404, 1.5418, 1.3544, 1.5953, 1.3927, 1.3207, 1.2353, 1.1785, 0.6475, 1.5057, 0.6179, -0.4399, 0.7752, 0.5898, 0.0503, 0.6981, 1.8816, 1.8729, 1.8627, 1.8615, 1.8345, 1.8314, 1.8286, 1.8286, 1.8276, 1.827, 1.8254, 1.819, 1.8159, 1.8151, 1.8136, 1.8125, 1.7824, 1.7456, 1.7267, 1.7218, 1.7015, 1.7014, 1.6713, 1.6701, 1.6696, 1.6692, 1.6648, 1.6567, 1.6519, 1.6403, 1.5866, 1.6338, 1.6401, 1.5626, 1.6341, 1.6332, 1.6157, 1.5742, 1.5454, 1.4559, 1.5791, 1.067, 1.414, 1.4553, 1.4249, 1.0425, 0.9892, 0.9056, 1.1563, 0.6031, 0.8809, 0.1506, 0.6835, 0.2104, 1.3838, 1.3836, 1.3836, 1.3836, 1.3836, 1.3835, 1.3835, 1.3835, 1.3834, 1.3834, 1.3834, 1.3834, 1.3834, 1.3834, 1.3834, 1.3834, 1.3833, 1.3833, 1.3833, 1.3833, 1.3833, 1.3832, 1.3832, 1.3831, 1.383, 1.383, 1.381, 1.381, 1.381, 1.381, 1.381, 1.381, 1.3809, 1.3809, 1.3793, 1.3793, 1.376, 1.3759, 1.3759, 1.3759, 1.3758, 1.3794, 1.3792, 1.3809, 1.376, 1.3757, 1.3757, 1.3791, 1.3735, 1.3757, 1.3757, -4.0643, -4.0995, -3.3793, 1.3753, 1.3757, -3.355, -3.6248, -3.3367, -3.7552, 1.3756, 1.3756, 1.3756, -3.4982, -3.2167, -3.6341, -3.4602, -3.361, -2.4917, -2.7294, -2.9384, -2.4621, -2.7611, -2.8041, -2.9497, -2.4706, -2.4156, -2.8368, -2.7325, -2.6033, -2.7592, -3.6232, -2.8738, -2.8605, -2.8027, -2.8009, 1.3832, 1.3831, 1.383, 1.383, 1.383, 1.383, 1.383, 1.383, 1.3829, 1.3829, 1.3829, 1.3829, 1.3829, 1.3829, 1.3829, 1.3829, 1.3828, 1.3828, 1.3828, 1.3828, 1.3828, 1.3827, 1.3827, 1.3826, 1.3826, 1.3826, 1.3813, 1.381, 1.381, 1.381, 1.381, 1.3809, 1.3809, 1.3808, 1.3808, 1.3808, 1.3808, 1.3807, 1.3807, 1.3807, 1.3807, 1.3807, 1.3807, 1.3808, 1.3807, 1.3759, 1.3789, 1.3788, 1.3788, 1.3807, 1.3807, 1.3756, 1.3755, 1.3755, 1.3754, 1.3755, 1.3754, 1.3787, 1.3787, 1.3753, 1.3787, 1.3753, 1.3753, 1.3753, 1.3753, -3.9531, -4.0195, 1.3752, 1.3753, 1.3753, 1.3752, -3.6515, 1.3752, 1.3752, -3.4661, -3.6023, -3.6033, -3.4279, -3.348, -2.8107, -3.3428, -3.4493, -3.2317, -3.5763, -2.617, -2.9332, -3.4391, -2.5617, -2.8015, -2.4304, -2.7458, -2.7337, -2.3097, -2.1689, -2.7968, -2.7602, -2.3691, -2.0594, -2.3891, -2.6101, -2.7019, -2.8632, 1.3836, 1.3836, 1.3835, 1.3835, 1.3834, 1.3834, 1.3834, 1.3834, 1.3834, 1.3833, 1.3833, 1.3833, 1.3833, 1.3833, 1.3832, 1.3832, 1.3832, 1.3832, 1.3832, 1.3831, 1.3831, 1.383, 1.383, 1.383, 1.3829, 1.3827, 1.3806, 1.3806, 1.3805, 1.3805, 1.3805, 1.379, 1.3759, 1.3759, 1.3759, 1.3752, 1.3751, 1.3757, 1.3757, 1.3757, -4.0273, -4.0752, -3.5534, 1.3754, 1.375, -3.4727, -3.6299, -3.5417, -3.43, 1.3731, -3.7663, -2.9021, -3.3536, -3.4228, -3.237, -2.4802, -2.8512, -2.759, -2.6315, -2.7786, -2.9458, -2.7228, -2.7883, -2.6864, -2.3574, -2.4734, -2.852, -2.7478, -3.4, -2.4943, -3.5139, -2.5836, -2.3294, 1.3828, 1.3828, 1.3826, 1.3819, 1.3817, 1.3817, 1.3817, 1.3815, 1.3813, 1.381, 1.3809, 1.3809, 1.3808, 1.3807, 1.3807, 1.3807, 1.3807, 1.3806, 1.3805, 1.3805, 1.3805, 1.3804, 1.3803, 1.3803, 1.3803, 1.3803, 1.3803, 1.3802, 1.3801, 1.3801, 1.3789, -2.9044, -3.3877, -3.005, -3.3938, -2.6795, -4.0488, -2.2775, -2.4512, -4.06, -3.4478, -2.0234, -3.5516, -2.1173, -3.1567, -2.7211, -2.6593, -2.0894, -2.0619, -2.3704, -3.334, -2.8901, -2.4201, -3.4934, -2.3368, -2.5247, -3.4404, -2.1863, -1.7121, -1.7949, -1.6925, -2.1019, -3.4432, -2.6635, 1.3825, 1.3825, 1.3824, 1.3823, 1.3823, 1.3823, 1.3823, 1.3822, 1.3822, 1.3822, 1.3822, 1.3822, 1.3821, 1.3821, 1.3821, 1.3821, 1.3821, 1.3821, 1.3821, 1.382, 1.382, 1.3819, 1.3819, 1.3819, 1.3819, 1.3818, 1.3808, 1.3807, 1.3806, 1.3806, 1.3805, 1.3805, 1.3803, 1.3803, 1.3802, 1.3802, 1.3802, 1.3801, 1.3801, 1.3801, 1.3801, 1.3801, 1.3801, 1.3801, 1.38, 1.3801, 1.38, 1.3783, 1.38, 1.3799, 1.3799, 1.38, 1.38, 1.3751, 1.3783, 1.375, 1.3753, -4.0139, -4.038, 1.3748, 1.3751, -3.5352, -3.6603, -3.4818, -3.3957, -3.4009, -3.5992, -3.3423, -3.3302, 1.3638, -3.408, -2.8015, -2.7659, -2.8181, -2.9111, -3.2333, -2.5533, -3.5368, -2.7233, -2.4633, -2.7151, -2.8187, -2.2004, -2.4256, -2.9461, -2.7376, -2.7858, -2.7463, -2.5443, -2.3841]}, \"token.table\": {\"Topic\": [1, 2, 4, 4, 5, 4, 5, 1, 5, 1, 3, 1, 2, 3, 5, 1, 3, 4, 5, 1, 2, 4, 5, 4, 5, 1, 4, 5, 3, 4, 1, 2, 4, 5, 1, 5, 1, 3, 5, 3, 4, 4, 5, 1, 2, 4, 5, 3, 4, 1, 1, 2, 3, 4, 4, 5, 3, 5, 1, 5, 2, 5, 1, 1, 3, 4, 5, 1, 2, 4, 5, 1, 2, 4, 5, 3, 4, 3, 4, 1, 2, 4, 5, 4, 5, 2, 2, 5, 2, 5, 1, 5, 2, 4, 4, 5, 4, 5, 1, 2, 3, 5, 1, 2, 5, 4, 5, 3, 4, 1, 1, 3, 4, 5, 1, 3, 1, 2, 4, 5, 1, 3, 1, 3, 4, 2, 3, 4, 5, 1, 4, 5, 1, 2, 3, 4, 1, 1, 2, 4, 5, 1, 4, 1, 5, 2, 1, 2, 4, 5, 3, 4, 1, 5, 4, 5, 3, 5, 1, 2, 3, 5, 4, 5, 4, 5, 3, 5, 4, 5, 1, 1, 4, 2, 3, 5, 1, 3, 4, 1, 2, 4, 4, 5, 1, 4, 1, 2, 3, 5, 1, 3, 5, 1, 3, 5, 1, 4, 5, 1, 3, 1, 2, 3, 4, 5, 2, 1, 3, 1, 2, 3, 5, 1, 3, 4, 5, 1, 3, 1, 4, 1, 4, 5, 1, 5, 1, 3, 4, 5, 3, 4, 1, 5, 1, 3, 4, 5, 1, 3, 3, 4, 2, 2, 5, 1, 3, 2, 5, 1, 1, 5, 1, 3, 1, 3, 4, 1, 5, 4, 5, 1, 5, 3, 5, 3, 5, 5, 3, 5, 1, 1, 3, 4, 5, 1, 1, 4, 4, 5, 4, 5, 1, 4, 5, 1, 2, 3, 4, 5, 1, 4, 5, 4, 5, 1, 3, 4, 1, 2, 4, 5, 1, 1, 5, 4, 5, 4, 5, 3, 4, 4, 5, 3, 4, 1, 5, 2, 4, 5, 1, 3, 4, 5, 1, 2, 3, 1, 2, 3, 1, 2, 4, 5, 1, 1, 5, 3, 5, 1, 2, 3, 4, 4, 5, 1, 5, 1, 2, 4, 5, 2, 3, 3, 5, 4, 5, 1, 2, 4, 5, 1, 3, 2, 1, 4, 5, 1, 5, 2, 3, 4, 5, 3, 5, 1, 5, 4, 5, 3, 5, 4, 5, 2, 3, 5, 1, 4, 1, 3, 1, 4, 5, 1, 5, 1, 5, 1, 3, 3, 5, 4, 5, 1, 1, 5, 1, 2, 4, 5, 1, 2, 4, 5, 1, 3, 4, 1, 2, 3, 1, 1, 2, 3, 4, 5, 1, 3, 4, 5, 1, 4, 5, 1, 2, 4, 5, 4, 5, 1, 3, 4, 5, 2, 5, 1, 2, 4, 5, 1, 4, 5, 1, 3, 1, 5, 1, 4, 1, 3, 4, 1, 3, 4, 5, 2, 3, 4, 5, 4, 5, 1, 4, 5, 1, 2, 4, 5, 1, 3, 4, 5, 2, 4, 5, 1, 2, 3, 4, 1, 2, 3, 4, 5, 1, 3, 1, 1, 3, 4, 3, 4, 1, 1, 4, 1, 2, 3, 5, 4, 5, 3, 4, 5, 1, 5, 1, 2, 3, 4, 1, 3, 1, 2, 4, 5, 2, 5, 2, 4, 3, 5, 1, 5, 2, 4, 4, 5, 1, 3, 1, 3, 4, 5, 1, 2, 3, 1, 2, 1, 2, 3, 4, 1, 2, 3, 5, 2, 3, 5, 3, 4, 1, 2, 1, 4, 5, 1, 2, 4, 1, 3, 1, 3, 3, 5, 1, 1, 3, 1, 4, 1, 1, 4, 5, 1, 5, 1, 3, 4, 5, 1, 4, 1, 5, 2, 4, 5, 1, 2, 3, 5, 3, 4, 1, 2, 3, 5, 1, 5, 2, 5, 4, 5, 1, 4, 5, 4, 5, 4, 5, 1, 4, 5, 2, 1, 1, 3, 5, 1, 5, 4, 5, 1, 3, 1, 2, 5, 4, 5, 1, 2, 4, 5, 2, 5, 1, 5, 3, 5, 1, 5, 1, 2, 4, 5, 1, 5, 2, 4, 5, 4, 5, 1, 1, 5, 2, 5, 4, 5, 1, 4, 1, 2, 1, 2, 4, 5, 4, 5, 1, 2, 4, 5, 3, 5, 1, 4, 5, 4, 5, 4, 5, 4, 5, 4, 5, 1, 3, 1, 3, 3, 5, 1, 2, 4, 5, 2, 5, 3, 5, 1, 3, 5, 2, 1, 3, 4, 5, 2, 3, 4, 5, 1, 2, 3, 4, 2, 5, 1, 3, 4, 5, 3, 4, 1, 1, 4, 4, 5, 1, 4, 1, 3, 5, 1, 2, 3, 2, 1, 2, 4, 5, 2, 1, 1, 3, 4, 5, 2, 1, 1, 4, 4, 5, 4, 5, 2, 3, 4, 5, 1, 2, 4, 5, 2, 3, 4, 5, 2, 1, 2, 1, 3, 4, 5, 1, 3, 1, 2, 5, 1, 1, 2, 3, 5, 2, 5, 1, 4, 1, 2, 4, 5, 1, 3, 1, 2, 3, 5, 1, 4, 1, 2, 1, 5, 1, 2, 3, 4, 4, 5, 2, 1, 1, 2, 3, 4, 5, 1, 2, 4, 5, 4, 5, 3, 4, 5, 2, 5, 1, 5, 1, 5, 1, 5, 1, 5, 4, 5, 3, 4, 3, 5, 1, 3, 1, 5, 1, 5, 4, 5, 2, 5, 1, 1, 1, 4, 5, 1, 5, 1, 4, 5, 1, 3, 2, 1, 2, 4, 2, 5, 1, 5, 1, 5, 1, 2, 3, 5, 2, 1, 3, 3, 5, 4, 5, 1, 5, 1, 3, 1, 4, 5, 5, 4, 5, 1, 2, 1, 4, 5], \"Freq\": [0.15475200143024884, 0.03095040028604977, 0.804710407437294, 0.42618547755782604, 0.42618547755782604, 0.42622914657587346, 0.42622914657587346, 0.9423106283685481, 0.044871934684216574, 0.10067396390546625, 0.9060656751491962, 0.034632439068361255, 0.034632439068361255, 0.9004434157773926, 0.034632439068361255, 0.10990458296944537, 0.4396183318777815, 0.0942039282595246, 0.36111505832817764, 0.10919094862310554, 0.8033334077271336, 0.031197413892315867, 0.05459547431155277, 0.4262240915638805, 0.4262240915638805, 0.9584580388666853, 0.07457394826610507, 0.9321743533263135, 0.42542580120264106, 0.42542580120264106, 0.15627225932563293, 0.5331641788756889, 0.11950231595489579, 0.1838497168536858, 0.4240259100622349, 0.4240259100622349, 0.8547637302866122, 0.42387791900582067, 0.42387791900582067, 0.4254434693861307, 0.4254434693861307, 0.42622752519511187, 0.42622752519511187, 0.1792502682658026, 0.6913938918823814, 0.051214362361657884, 0.07682154354248683, 0.42542834376300687, 0.42542834376300687, 0.8547420446426015, 0.08038866423238124, 0.7435951441495264, 0.16077732846476248, 0.02009716605809531, 0.4262338253930643, 0.4262338253930643, 0.06849519499840595, 0.8904375349792775, 0.235860686034658, 0.707582058103974, 0.2450480318244641, 0.7351440954733923, 0.8547123166783986, 0.09034829743928935, 0.06023219829285957, 0.8131346769536042, 0.030116099146429785, 0.011486593318880411, 0.8959542788726721, 0.017229889978320617, 0.07466285657272267, 0.8547328496929827, 0.9509075430898336, 0.4262443632505084, 0.4262443632505084, 0.4255493348292294, 0.4255493348292294, 0.9203167914412836, 0.09203167914412837, 0.053557667328344376, 0.16067300198503312, 0.16067300198503312, 0.6426920079401325, 0.22015099253999781, 0.7338366417999928, 0.960928647959778, 0.06836144628782749, 0.8886988017417573, 0.22791997365107936, 0.740739914366008, 0.4237051555070166, 0.4237051555070166, 0.9370996102435554, 0.06247330734957036, 0.42622009216618256, 0.42622009216618256, 0.4262149060931574, 0.4262149060931574, 0.020116389695263293, 0.7443064187247419, 0.06034916908578988, 0.18104750725736965, 0.9200108741289172, 0.02967777013319088, 0.02967777013319088, 0.4262547393710493, 0.4262547393710493, 0.14260038783067022, 0.8556023269840214, 0.8545886383465752, 0.023177646213528354, 0.009933276948655008, 0.9569056793870991, 0.009933276948655008, 0.19668346683867777, 0.799423123279787, 0.22416685116098148, 0.6276671832507481, 0.01494445674406543, 0.13450011069658888, 0.10839395260509636, 0.8671516208407709, 0.28431636975616215, 0.04738606162602703, 0.6634048627643784, 0.3114144146490587, 0.031141441464905873, 0.015570720732452937, 0.6383995500305704, 0.8694325236578565, 0.07452278774210198, 0.04968185849473466, 0.09361706990986662, 0.6319152218915997, 0.07021280243239997, 0.2106384072971999, 0.8545754048856045, 0.3174352209646768, 0.2063328936270399, 0.30156345991644296, 0.17458937153057225, 0.9410498067300511, 0.032449993335519005, 0.42399565905090286, 0.42399565905090286, 0.91627783045339, 0.06926144835573082, 0.46751477640118305, 0.24241506924505787, 0.20778434506719248, 0.4254276681581431, 0.4254276681581431, 0.42372745502194614, 0.42372745502194614, 0.42624412727173766, 0.42624412727173766, 0.42387057427685554, 0.42387057427685554, 0.10824535479596728, 0.05412267739798364, 0.7577174835717709, 0.05412267739798364, 0.42619032265454376, 0.42619032265454376, 0.4262179692752098, 0.4262179692752098, 0.4238689403459522, 0.4238689403459522, 0.4262620267202849, 0.4262620267202849, 0.8546071126077803, 0.4252521096417971, 0.4252521096417971, 0.8175073350349078, 0.09617733353351857, 0.09617733353351857, 0.07513601626960843, 0.35386639920525265, 0.5720032206331481, 0.05182046340229365, 0.2072818536091746, 0.725486487632111, 0.4262333189927784, 0.4262333189927784, 0.16436200122003303, 0.8218100061001651, 0.09191594203438236, 0.12255458937917647, 0.09191594203438236, 0.7046888889302647, 0.037422622385503354, 0.8981429372520805, 0.05613393357825503, 0.0154327723784608, 0.9413991150861089, 0.0308655447569216, 0.5589345031388077, 0.012311332668255676, 0.42843437685529756, 0.2224526956005618, 0.7785844346019662, 0.04814078684130408, 0.01203519671032602, 0.34902070459945456, 0.5776894420956489, 0.01203519671032602, 0.9686398936691477, 0.4229127530029656, 0.4229127530029656, 0.4844830823770063, 0.011535311485166818, 0.4614124594066727, 0.04614124594066727, 0.014828009505731403, 0.007414004752865701, 0.9712346226254068, 0.007414004752865701, 0.10066989809092046, 0.9060290828182842, 0.9552455094876904, 0.039801896228653766, 0.5812580593363812, 0.05407051714757034, 0.3649759907460998, 0.09228765984979116, 0.9228765984979117, 0.25001980364672616, 0.4464639350834396, 0.035717114806675165, 0.26787836105006374, 0.2034876623926169, 0.8139506495704676, 0.4240154604909778, 0.4240154604909778, 0.16256551447832274, 0.8128275723916136, 0.22014422361863278, 0.733814078728776, 0.14576384587589133, 0.874583075255348, 0.12579925955519167, 0.8805948168863417, 0.9364457589423003, 0.9307377425250839, 0.06648126732322028, 0.05713671303112911, 0.9141874084980658, 0.8758746312643186, 0.1251249473234741, 0.8547575736651499, 0.9679443985204012, 0.03456944280430004, 0.051085080670838764, 0.9450739924105173, 0.19970431711579176, 0.5230351162556451, 0.2662724228210557, 0.4237151329900459, 0.4237151329900459, 0.42621526856985104, 0.42621526856985104, 0.4237303462666224, 0.4237303462666224, 0.16323132164560558, 0.8161566082280278, 0.4238926507954765, 0.4238926507954765, 0.8494957563099788, 0.42388270304342773, 0.42388270304342773, 0.8547119354354896, 0.42291193468163, 0.42291193468163, 0.4262225301398461, 0.4262225301398461, 0.8547532634830969, 0.16439924359364194, 0.8219962179682098, 0.42622311729877926, 0.42622311729877926, 0.426269808013444, 0.426269808013444, 0.06111121529822721, 0.7944457988769538, 0.12222243059645442, 0.0775549172154921, 0.03877745860774605, 0.11633237582323815, 0.6979942549394289, 0.0775549172154921, 0.9993573063513284, 0.42621471437692277, 0.42621471437692277, 0.7440007222198984, 0.1860001805549746, 0.2596112186384104, 0.10817134109933767, 0.6273937783761584, 0.7981273561809119, 0.059561742998575515, 0.07147409159829061, 0.07147409159829061, 0.9868706035478881, 0.42369686540313345, 0.42369686540313345, 0.4261993060821075, 0.4261993060821075, 0.42619257384115383, 0.42619257384115383, 0.4254317602869782, 0.4254317602869782, 0.06967476621114065, 0.9057719607448284, 0.10188686842977823, 0.8150949474382259, 0.4240077919957458, 0.4240077919957458, 0.8125548081466183, 0.16251096162932366, 0.040627740407330915, 0.19072200053869068, 0.39415880111329404, 0.31787000089781775, 0.10171840028730168, 0.9567897574668953, 0.012929591317120206, 0.02585918263424041, 0.9495590142637944, 0.029673719195743575, 0.029673719195743575, 0.9906428978328138, 0.6920992545461981, 0.012583622809930875, 0.28942332462841014, 0.854726470756505, 0.9395213665920247, 0.04175650518186776, 0.4239013686627546, 0.4239013686627546, 0.3664072462183154, 0.0037388494512073, 0.3439741495110716, 0.2841525582917548, 0.05742977199699708, 0.9188763519519533, 0.9319201652480434, 0.049048429749897024, 0.043376951107133, 0.173507804428532, 0.694031217714128, 0.086753902214266, 0.2271294838525395, 0.7381708225207534, 0.4238848166804122, 0.4238848166804122, 0.42618022791016813, 0.42618022791016813, 0.8547352975892151, 0.01747114600102244, 0.873557300051122, 0.10482687600613463, 0.4610766109307224, 0.5338781810776786, 0.9747950505444674, 0.7900510415001062, 0.03614612608170421, 0.1704031658137484, 0.423714623748335, 0.423714623748335, 0.6380966907110743, 0.027743334378742365, 0.027743334378742365, 0.305176678166166, 0.42388991963867767, 0.42388991963867767, 0.42371504666715265, 0.42371504666715265, 0.4262342784694992, 0.4262342784694992, 0.8462475901004646, 0.1410412650167441, 0.4262199972058325, 0.4262199972058325, 0.06828704525703115, 0.1365740905140623, 0.7511574978273426, 0.42526521905430115, 0.42526521905430115, 0.2224506029470913, 0.7785771103148195, 0.8547086700788514, 0.42625612784804073, 0.42625612784804073, 0.42372549694788125, 0.42372549694788125, 0.42400550502029016, 0.42400550502029016, 0.6622189118324899, 0.3376017981891125, 0.4238831524409859, 0.4238831524409859, 0.42621162592156364, 0.42621162592156364, 0.9990358186248632, 0.9135270325134115, 0.08304791204667378, 0.2644978353293138, 0.3232751320691613, 0.22041486277442815, 0.1910262144045044, 0.953770565656244, 0.039740440235676834, 0.027411968834769804, 0.9731248936343281, 0.701616603769396, 0.24148664501830375, 0.05547666169339411, 0.27512837328396017, 0.04891171080603736, 0.6725360235830137, 0.9639137874991882, 0.017961175630329815, 0.03592235126065963, 0.017961175630329815, 0.8262140789951714, 0.10776705378197889, 0.3866324141207624, 0.0021360906857500685, 0.6087858454387695, 0.0021360906857500685, 0.09449596692073284, 0.18899193384146568, 0.7087197519054963, 0.06422029427974692, 0.06422029427974692, 0.06422029427974692, 0.770643531356963, 0.037272310279748984, 0.9690800672734736, 0.1406478285633401, 0.08790489285208757, 0.31645761426751523, 0.4746864214012729, 0.8835558735233314, 0.08414817843079347, 0.012494453777828962, 0.8996006720036853, 0.012494453777828962, 0.07496672266697377, 0.9254754029509676, 0.037019016118038706, 0.037019016118038706, 0.8954596997412481, 0.08665739029754013, 0.4237216591498278, 0.4237216591498278, 0.9807702144272384, 0.016346170240453976, 0.8328005006961839, 0.04626669448312133, 0.12337785195499021, 0.25710493272466933, 0.06427623318116733, 0.08570164424155645, 0.5999115096908951, 0.8092300537183178, 0.029971483471048808, 0.029971483471048808, 0.11988593388419523, 0.4262326599070051, 0.4262326599070051, 0.8715023720548063, 0.01867505082974585, 0.1120503049784751, 0.8547317221282981, 0.960658265875497, 0.4262054873673138, 0.4262054873673138, 0.00295655663331561, 0.00295655663331561, 0.9904464721607293, 0.00295655663331561, 0.9609032000392802, 0.1417805518565977, 0.7089027592829884, 0.0735378848459383, 0.0735378848459383, 0.0735378848459383, 0.7353788484593831, 0.19748318865622866, 0.04388515303471748, 0.06582772955207622, 0.5485644129339685, 0.15359803562151117, 0.19218682030109002, 0.7687472812043601, 0.9993907974964525, 0.3042805814074386, 0.11064748414815948, 0.6085611628148772, 0.16439285628473632, 0.8219642814236816, 0.9840506188851956, 0.4252506767263406, 0.4252506767263406, 0.07593602411609386, 0.08177725674040877, 0.8352962652770324, 0.005841232624314912, 0.9520715017125301, 0.0476035750856265, 0.03605030697994588, 0.18025153489972937, 0.7931067535588092, 0.42401331854747637, 0.42401331854747637, 0.11120871754355409, 0.013901089692944261, 0.38923051140243936, 0.4865381392530492, 0.10746060611863088, 0.8955050509885908, 0.0805201645466397, 0.0805201645466397, 0.8052016454663969, 0.04026008227331985, 0.14094670242862714, 0.8456802145717628, 0.9637782194713899, 0.03451547342459523, 0.4238835340552946, 0.4238835340552946, 0.9214148664524247, 0.06142765776349498, 0.11224343608920875, 0.89794748871367, 0.4262122215669369, 0.4262122215669369, 0.2718899543006831, 0.7260358120336922, 0.1006386788165662, 0.6038320728993972, 0.27675636674555704, 0.016773113136094368, 0.10495379251023326, 0.8396303400818661, 0.06996919500682218, 0.978893690895219, 0.013595745706878043, 0.04834019357323853, 0.012085048393309632, 0.06042524196654816, 0.8822085327116032, 0.8063100633828364, 0.09267931763021109, 0.07414345410416887, 0.027803795289063325, 0.6512718486809724, 0.031012945175284405, 0.310129451752844, 0.010990601354573066, 0.989154121911576, 0.14225194989589313, 0.8535116993753588, 0.7945570525441219, 0.1418851879543075, 0.05675407518172299, 0.10597730381141299, 0.8478184304913039, 0.052988651905706494, 0.0542052193877512, 0.9214887295917703, 0.5409450432729398, 0.4560909188379688, 0.4238873059176939, 0.4238873059176939, 0.9993631958939135, 0.2945389299547028, 0.7068934318912868, 0.4254636490858301, 0.4254636490858301, 0.8547254432729672, 0.9867495672003445, 0.007098917749642765, 0.007098917749642765, 0.42369922335602594, 0.42369922335602594, 0.1220828267602717, 0.06104141338013585, 0.7324969605616302, 0.06104141338013585, 0.14250997514009844, 0.8550598508405906, 0.11168180496276754, 0.7817726347393729, 0.9696999098371649, 0.42619166527362545, 0.42619166527362545, 0.12174851345178009, 0.7548407834010366, 0.04869940538071203, 0.07304910807106806, 0.03474148526981201, 0.9611810924647988, 0.14071254411455578, 0.0469041813715186, 0.7504669019442975, 0.0469041813715186, 0.9650050860718945, 0.03574092911377387, 0.0770431806752426, 0.9245181681029112, 0.09499890104538845, 0.9024895599311903, 0.8037325833972551, 0.0974221313208794, 0.0974221313208794, 0.4262264876036281, 0.4262264876036281, 0.039661022061208986, 0.9631962500579326, 0.02992655723907542, 0.05985311447815084, 0.8977967171722625, 0.9951069967305495, 0.8547625046514269, 0.20424177103884272, 0.1787115496589874, 0.6127253131165282, 0.4237097519445098, 0.4237097519445098, 0.4262384363462475, 0.4262384363462475, 0.06406314255848543, 0.9609471383772815, 0.9987633071599838, 0.9162628768096268, 0.8495327980317845, 0.1371800448549321, 0.8230802691295925, 0.24303505591523009, 0.022784536492052823, 0.03037938198940376, 0.7063206312536374, 0.9055459723967723, 0.10061621915519692, 0.4237168853529385, 0.4237168853529385, 0.42387580283477433, 0.42387580283477433, 0.4237390296385865, 0.4237390296385865, 0.20122325623844015, 0.6911581409929031, 0.04374418613879134, 0.06124186059430787, 0.42400659236169247, 0.42400659236169247, 0.9508787901323539, 0.4262406684560726, 0.4262406684560726, 0.4262054271239205, 0.4262054271239205, 0.9840325930009806, 0.4237035158058089, 0.4237035158058089, 0.9417861854646774, 0.05886163659154234, 0.42625605598784894, 0.42625605598784894, 0.2586954682611046, 0.7114125377180377, 0.12502657818596247, 0.8751860473017373, 0.16603691986081456, 0.6918204994200606, 0.1106912799072097, 0.027672819976802425, 0.4262389132032619, 0.4262389132032619, 0.18444756053621572, 0.0702657373471298, 0.026349651505173675, 0.7202238078080805, 0.4238845387893713, 0.4238845387893713, 0.8546260549459361, 0.4262419895298162, 0.4262419895298162, 0.42621038325472865, 0.42621038325472865, 0.426224896044425, 0.426224896044425, 0.4262391758459585, 0.4262391758459585, 0.42622953754293375, 0.42622953754293375, 0.9879108100670462, 0.012522813085356924, 0.16262477307294632, 0.8131238653647316, 0.42388912546525104, 0.42388912546525104, 0.12381470899169736, 0.7119345767022598, 0.06190735449584868, 0.09286103174377301, 0.140940306206348, 0.8456418372380881, 0.42387137438051964, 0.42387137438051964, 0.16473424285749275, 0.7413040928587173, 0.08236712142874637, 0.9364306251469793, 0.015505254801273986, 0.9819994707473525, 0.047217318166916884, 0.9443463633383377, 0.5615771393640533, 0.011948449773703263, 0.005974224886851631, 0.4181957420796142, 0.9840450407574047, 0.05478892638610281, 0.05478892638610281, 0.876622822177645, 0.07478217332920829, 0.9223134710602355, 0.2969416021868636, 0.11547728973933585, 0.5113994259884873, 0.06598702270819191, 0.8976708139372734, 0.06411934385266238, 0.8547274566606597, 0.42527802173569623, 0.42527802173569623, 0.4262091247799807, 0.4262091247799807, 0.42532857225560167, 0.42532857225560167, 0.20329912683423668, 0.08712819721467287, 0.7260683101222739, 0.04587697269319383, 0.8257855084774889, 0.09175394538638766, 0.960677769333665, 0.037456729232925055, 0.07491345846585011, 0.8240480431243512, 0.037456729232925055, 0.936425549390832, 0.8547356595354451, 0.18376962590716703, 0.8269633165822516, 0.42620350906940013, 0.42620350906940013, 0.9163016510918074, 0.9840551480177022, 0.4252609261369577, 0.4252609261369577, 0.1635739957274446, 0.817869978637223, 0.4262269636026951, 0.4262269636026951, 0.887865137105256, 0.026113680503095767, 0.05222736100619153, 0.026113680503095767, 0.17364432309509653, 0.4217076418023773, 0.008268777290242692, 0.39690130993164924, 0.7419058812097072, 0.06546228363615064, 0.021820761212050215, 0.17456608969640172, 0.9508540942104957, 0.973197461380957, 0.018897038085067125, 0.04365990084402925, 0.04365990084402925, 0.8295381160365558, 0.0873198016880585, 0.9777398879725302, 0.03055437149914157, 0.03052815232946131, 0.9005804937191086, 0.06105630465892262, 0.9993718256550834, 0.21426973600656346, 0.4106836606792466, 0.2856929813420846, 0.08927905666940143, 0.9671235335476985, 0.027242916437963338, 0.4252892586666169, 0.4252892586666169, 0.016174390399156358, 0.09704634239493815, 0.06469756159662543, 0.8248939103569742, 0.12077788676643134, 0.905834150748235, 0.1640429943640145, 0.020505374295501814, 0.779204223229069, 0.020505374295501814, 0.16437505374838676, 0.8218752687419338, 0.8547660669931666, 0.9374932736937166, 0.42373458308581513, 0.42373458308581513, 0.7398336508362935, 0.004028132400197605, 0.1611252960079042, 0.09533246680467665, 0.4262074452051776, 0.4262074452051776, 0.975371264780607, 0.8547274971332379, 0.03438614279953085, 0.6189505703915554, 0.05157921419929628, 0.03438614279953085, 0.25789607099648143, 0.42846655335993933, 0.23661585782563813, 0.15348055642744093, 0.17906064916534778, 0.4262606499120489, 0.4262606499120489, 0.7164926676211495, 0.14926930575440614, 0.14926930575440614, 0.2484384924450295, 0.7453154773350884, 0.42370417219360496, 0.42370417219360496, 0.9441927754712006, 0.03147309251570669, 0.4237029230646651, 0.4237029230646651, 0.4236926245352663, 0.4236926245352663, 0.8226418147666164, 0.16452836295332326, 0.1258043647313601, 0.8806305531195208, 0.42387994688007763, 0.42387994688007763, 0.09564148159803601, 0.900881052471823, 0.4237151799859114, 0.4237151799859114, 0.42371970068927933, 0.42371970068927933, 0.42619205653570047, 0.42619205653570047, 0.41907637997361447, 0.41907637997361447, 0.9520957951125466, 0.9732557841163012, 0.854778392800426, 0.42619489304979996, 0.42619489304979996, 0.4239960562075693, 0.4239960562075693, 0.8547230950917616, 0.42624019255343937, 0.42624019255343937, 0.38305872930852236, 0.6187871781137668, 0.950399758737473, 0.8547633897281967, 0.1419835943656935, 0.851901566194161, 0.16250702849233878, 0.8125351424616939, 0.4237024635989382, 0.4237024635989382, 0.4240145043752711, 0.4240145043752711, 0.6382408839436274, 0.005574156191647401, 0.35395891816961, 0.0027870780958237007, 0.9504200953930388, 0.2275166908680705, 0.7475548414236602, 0.4238706696217309, 0.4238706696217309, 0.4261960729773023, 0.4261960729773023, 0.42373400876288014, 0.42373400876288014, 0.02322885743454738, 0.9523831548164426, 0.8545858373663462, 0.4261979169177319, 0.4261979169177319, 0.8495527122940467, 0.4262230565309805, 0.4262230565309805, 0.08965827731533896, 0.8965827731533895, 0.8547461788571299, 0.42621866244434237, 0.42621866244434237], \"Term\": [\"'em\", \"'em\", \"'em\", \"1\", \"1\", \"27\", \"27\", \"abe\", \"abe\", \"abraham\", \"abraham\", \"adam\", \"adam\", \"adam\", \"adam\", \"alec\", \"alec\", \"alec\", \"alec\", \"allan\", \"allan\", \"allan\", \"allan\", \"allured\", \"allured\", \"ally\", \"alonzo\", \"alonzo\", \"aloofness\", \"aloofness\", \"andrew\", \"andrew\", \"andrew\", \"andrew\", \"anneish\", \"anneish\", \"anoint\", \"arbutus\", \"arbutus\", \"archangel\", \"archangel\", \"ardent\", \"ardent\", \"assure\", \"assure\", \"assure\", \"assure\", \"assuredly\", \"assuredly\", \"astutely\", \"asylum\", \"asylum\", \"asylum\", \"asylum\", \"auld\", \"auld\", \"aunty\", \"aunty\", \"author\", \"author\", \"avenue\", \"avenue\", \"balm\", \"bar\", \"bar\", \"bar\", \"bar\", \"barry\", \"barry\", \"barry\", \"barry\", \"begone\", \"behavior\", \"belove\", \"belove\", \"beneficent\", \"beneficent\", \"bertie\", \"bertie\", \"billy\", \"billy\", \"billy\", \"billy\", \"blake\", \"blake\", \"block\", \"boardinghouse\", \"boardinghouse\", \"bolingbroke\", \"bolingbroke\", \"bored\", \"bored\", \"bosom\", \"bosom\", \"breaker\", \"breaker\", \"brewing\", \"brewing\", \"bridge\", \"bridge\", \"bridge\", \"bridge\", \"british\", \"british\", \"british\", \"brusque\", \"brusque\", \"bryant\", \"bryant\", \"burning\", \"captain\", \"captain\", \"captain\", \"captain\", \"carl\", \"carl\", \"carmody\", \"carmody\", \"carmody\", \"carmody\", \"cecilia\", \"cecilia\", \"channel\", \"channel\", \"channel\", \"charlie\", \"charlie\", \"charlie\", \"charlie\", \"charlotta\", \"charlotta\", \"charlotta\", \"cherry\", \"cherry\", \"cherry\", \"cherry\", \"christina\", \"christmas\", \"christmas\", \"christmas\", \"christmas\", \"clair\", \"clair\", \"clamor\", \"clamor\", \"clip\", \"color\", \"color\", \"color\", \"color\", \"condemn\", \"condemn\", \"confused\", \"confused\", \"congratulatory\", \"congratulatory\", \"congregate\", \"congregate\", \"congregation\", \"congregation\", \"congregation\", \"congregation\", \"consistent\", \"consistent\", \"conspirator\", \"conspirator\", \"constitution\", \"constitution\", \"contact\", \"contact\", \"conundrum\", \"conventionally\", \"conventionally\", \"cordial\", \"cordial\", \"cordial\", \"cornelia\", \"cornelia\", \"cornelia\", \"cove\", \"cove\", \"cove\", \"crept\", \"crept\", \"critter\", \"critter\", \"cushion\", \"cushion\", \"cushion\", \"cushion\", \"dan\", \"dan\", \"dan\", \"davis\", \"davis\", \"davis\", \"davy\", \"davy\", \"davy\", \"deacon\", \"deacon\", \"dearie\", \"dearie\", \"dearie\", \"dearie\", \"dearie\", \"debate\", \"detachment\", \"detachment\", \"di\", \"di\", \"di\", \"di\", \"dick\", \"dick\", \"dick\", \"dick\", \"ditto\", \"ditto\", \"donnell\", \"donnell\", \"dora\", \"dora\", \"dora\", \"dorothy\", \"dorothy\", \"dougla\", \"dougla\", \"dougla\", \"dougla\", \"driftwood\", \"driftwood\", \"duckhouse\", \"duckhouse\", \"dyke\", \"dyke\", \"editor\", \"editor\", \"eel\", \"eel\", \"eighth\", \"eighth\", \"ejaculate\", \"elaine\", \"elaine\", \"eld\", \"eld\", \"elegant\", \"elegant\", \"elfishly\", \"eliza\", \"eliza\", \"ellen\", \"ellen\", \"elliott\", \"elliott\", \"elliott\", \"emulate\", \"emulate\", \"endeavor\", \"endeavor\", \"entertaining\", \"entertaining\", \"epitaph\", \"epitaph\", \"essentially\", \"essentially\", \"esther\", \"exaggeration\", \"exaggeration\", \"execute\", \"faultless\", \"faultless\", \"fiction\", \"fiction\", \"figurative\", \"file\", \"file\", \"film\", \"film\", \"finality\", \"finality\", \"fireplace\", \"fireplace\", \"fireplace\", \"fishing\", \"fishing\", \"fishing\", \"fishing\", \"fishing\", \"flander\", \"focus\", \"focus\", \"fog\", \"fog\", \"ford\", \"ford\", \"ford\", \"fourth\", \"fourth\", \"fourth\", \"fourth\", \"france\", \"frightfully\", \"frightfully\", \"fruition\", \"fruition\", \"g.\", \"g.\", \"gander\", \"gander\", \"gardner\", \"gardner\", \"geese\", \"geese\", \"genially\", \"genially\", \"geometry\", \"geometry\", \"geometry\", \"george\", \"george\", \"george\", \"george\", \"german\", \"german\", \"german\", \"germany\", \"germany\", \"germany\", \"gertrude\", \"gilli\", \"gilli\", \"gilli\", \"gimme\", \"ginger\", \"ginger\", \"glee\", \"glee\", \"glen\", \"glen\", \"glen\", \"glen\", \"gordon\", \"gordon\", \"grafton\", \"grafton\", \"grit\", \"grit\", \"grit\", \"grit\", \"gum\", \"gum\", \"gust\", \"gust\", \"halcyon\", \"halcyon\", \"handshake\", \"harbor\", \"harbor\", \"harbor\", \"harbour\", \"harbour\", \"harris\", \"harrison\", \"harrison\", \"harrison\", \"haunch\", \"haunch\", \"haunted\", \"haunted\", \"haunted\", \"haunted\", \"hayloft\", \"hayloft\", \"heartless\", \"heartless\", \"heartstring\", \"heartstring\", \"ho\", \"ho\", \"hoarsely\", \"hoarsely\", \"honey\", \"honey\", \"honey\", \"horde\", \"horde\", \"humour\", \"humour\", \"impertinence\", \"incredulous\", \"incredulous\", \"indescribable\", \"indescribable\", \"infatuation\", \"infatuation\", \"ingleside\", \"ingleside\", \"invalid\", \"invalid\", \"inveterate\", \"inveterate\", \"irene\", \"irve\", \"irve\", \"island\", \"island\", \"island\", \"island\", \"jack\", \"jack\", \"jamesina\", \"jamesina\", \"jem\", \"jem\", \"jem\", \"jerry\", \"jerry\", \"jerry\", \"jersey\", \"jest\", \"jest\", \"jest\", \"jest\", \"jest\", \"jim\", \"jim\", \"jim\", \"jim\", \"jo\", \"jo\", \"jo\", \"jog\", \"jog\", \"jog\", \"jog\", \"jona\", \"jona\", \"joseph\", \"joseph\", \"joseph\", \"joseph\", \"josephine\", \"josephine\", \"josie\", \"josie\", \"josie\", \"josie\", \"judson\", \"judson\", \"judson\", \"kaiser\", \"kaiser\", \"keenness\", \"keenness\", \"ken\", \"ken\", \"kenneth\", \"kenneth\", \"kenneth\", \"kingsport\", \"kingsport\", \"kingsport\", \"kingsport\", \"lake\", \"lake\", \"lake\", \"lake\", \"landward\", \"landward\", \"lavendar\", \"lavendar\", \"lavendar\", \"lavishly\", \"layer\", \"leisurely\", \"leisurely\", \"leslie\", \"leslie\", \"leslie\", \"leslie\", \"lifelong\", \"literary\", \"literary\", \"lombardy\", \"lombardy\", \"lombardy\", \"lombardy\", \"lord\", \"lord\", \"lord\", \"lord\", \"lord\", \"lustre\", \"lustre\", \"m.\", \"macallister\", \"macallister\", \"macallister\", \"mackerel\", \"mackerel\", \"major\", \"malignant\", \"malignant\", \"manse\", \"manse\", \"manse\", \"manse\", \"margaret\", \"margaret\", \"maria\", \"maria\", \"maria\", \"marilla\\u2019ll\", \"marilla\\u2019ll\", \"marshall\", \"marshall\", \"marshall\", \"marshall\", \"martha\", \"martha\", \"mate\", \"mate\", \"mate\", \"mate\", \"mathematic\", \"mathematic\", \"matthew\", \"matthew\", \"mattress\", \"mattress\", \"ma\\u2019am\", \"ma\\u2019am\", \"mebbe\", \"mebbe\", \"memoir\", \"memoir\", \"meredith\", \"meredith\", \"methodist\", \"methodist\", \"methodist\", \"methodist\", \"minnie\", \"minnie\", \"minnie\", \"miranda\", \"miranda\", \"mistress\", \"mistress\", \"mistress\", \"mistress\", \"monday\", \"monday\", \"monday\", \"monday\", \"moody\", \"moody\", \"moody\", \"moore\", \"moore\", \"moral\", \"moral\", \"morgan\", \"morgan\", \"morgan\", \"mournfully\", \"mournfully\", \"mournfully\", \"myra\", \"myra\", \"nan\", \"nan\", \"noah\", \"noah\", \"nook\", \"norman\", \"norman\", \"obligation\", \"obligation\", \"oblong\", \"oliver\", \"oliver\", \"oliver\", \"onslaught\", \"onslaught\", \"operation\", \"operation\", \"operation\", \"operation\", \"oracle\", \"oracle\", \"orchid\", \"orchid\", \"organdy\", \"origin\", \"origin\", \"orphan\", \"orphan\", \"orphan\", \"orphan\", \"owen\", \"owen\", \"pa\", \"pa\", \"pa\", \"pa\", \"paris\", \"paris\", \"park\", \"park\", \"patty\", \"patty\", \"paul\", \"paul\", \"paul\", \"penitentiary\", \"penitentiary\", \"phil\", \"phil\", \"philippa\", \"philippa\", \"philippa\", \"phillip\", \"pickle\", \"pine\", \"pine\", \"pine\", \"pitching\", \"pitching\", \"pitifully\", \"pitifully\", \"pollock\", \"pollock\", \"pony\", \"pork\", \"postscript\", \"pris\", \"pris\", \"priscilla\", \"priscilla\", \"priscilla\", \"priscilla\", \"prissy\", \"prissy\", \"profile\", \"profile\", \"prostrate\", \"prostrate\", \"protectingly\", \"protectingly\", \"pye\", \"pye\", \"pye\", \"pye\", \"quart\", \"quart\", \"quench\", \"quit\", \"quit\", \"quoth\", \"quoth\", \"raid\", \"raincoat\", \"raincoat\", \"raspberry\", \"raspberry\", \"raymond\", \"raymond\", \"realise\", \"realise\", \"recitation\", \"recitation\", \"recite\", \"recite\", \"recite\", \"recite\", \"recreation\", \"recreation\", \"redmond\", \"redmond\", \"redmond\", \"redmond\", \"reminiscent\", \"reminiscent\", \"reminiscently\", \"repartee\", \"repartee\", \"research\", \"research\", \"resistance\", \"resistance\", \"respectably\", \"respectably\", \"reverently\", \"reverently\", \"rilla\", \"rilla\", \"rip\", \"rip\", \"ripen\", \"ripen\", \"river\", \"river\", \"river\", \"river\", \"rolling\", \"rolling\", \"roost\", \"roost\", \"rooster\", \"rooster\", \"rooster\", \"rosebush\", \"rosemary\", \"rosemary\", \"roy\", \"roy\", \"ruby\", \"ruby\", \"ruby\", \"ruby\", \"ruefully\", \"russell\", \"russell\", \"russell\", \"rusty\", \"rusty\", \"sail\", \"sail\", \"sail\", \"sail\", \"saint\", \"saint\", \"saintly\", \"saith\", \"saith\", \"sanctity\", \"sanctity\", \"sanity\", \"sanity\", \"sarah\", \"sarah\", \"sarah\", \"scholar\", \"scholar\", \"scholar\", \"schoolhouse\", \"schoolmaster\", \"schoolmaster\", \"schoolmaster\", \"schoolmaster\", \"selection\", \"semi\", \"session\", \"session\", \"shaded\", \"shaded\", \"shirring\", \"shortbread\", \"simmer\", \"simmer\", \"sketch\", \"sketch\", \"skull\", \"skull\", \"sleeve\", \"sleeve\", \"sleeve\", \"sleeve\", \"sloane\", \"sloane\", \"sloane\", \"sloane\", \"slope\", \"slope\", \"slope\", \"slope\", \"someday\", \"sophia\", \"sophia\", \"sorter\", \"sorter\", \"sorter\", \"sorter\", \"soup\", \"soup\", \"spencer\", \"spencer\", \"spencer\", \"spoonful\", \"spruce\", \"spruce\", \"spruce\", \"spruce\", \"stacy\", \"stacy\", \"starkly\", \"starkly\", \"stella\", \"stella\", \"stella\", \"stella\", \"stepmother\", \"stepmother\", \"stocking\", \"stocking\", \"stocking\", \"stocking\", \"stork\", \"stork\", \"stuffing\", \"sufficiently\", \"supersede\", \"supersede\", \"susan\", \"susan\", \"susan\", \"susan\", \"suspicione\", \"suspicione\", \"thereof\", \"thickest\", \"thoma\", \"thoma\", \"thoma\", \"thoma\", \"thoma\", \"today\", \"today\", \"today\", \"today\", \"tolerate\", \"tolerate\", \"tombstone\", \"tombstone\", \"tombstone\", \"tommy\", \"tommy\", \"torch\", \"torch\", \"trench\", \"trench\", \"trivial\", \"trivial\", \"tryste\", \"tryste\", \"turrible\", \"turrible\", \"twa\", \"twa\", \"ugh\", \"ugh\", \"una\", \"una\", \"unbrokenly\", \"unbrokenly\", \"unclouded\", \"unclouded\", \"undue\", \"undue\", \"unfit\", \"unfit\", \"union\", \"united\", \"unloose\", \"unsentimentally\", \"unsentimentally\", \"unsettling\", \"unsettling\", \"unshaded\", \"unto\", \"unto\", \"vance\", \"vance\", \"vanilla\", \"veer\", \"vessel\", \"vessel\", \"victim\", \"victim\", \"vista\", \"vista\", \"wakeful\", \"wakeful\", \"walter\", \"walter\", \"walter\", \"walter\", \"warrant\", \"warren\", \"warren\", \"westminster\", \"westminster\", \"wickedly\", \"wickedly\", \"widely\", \"widely\", \"wiley\", \"wiley\", \"womenkind\", \"wonderment\", \"wonderment\", \"worthwhile\", \"wraith\", \"wraith\", \"wreath\", \"wreath\", \"wrung\", \"yawn\", \"yawn\"]}, \"R\": 30, \"lambda.step\": 0.01, \"plot.opts\": {\"xlab\": \"PC1\", \"ylab\": \"PC2\"}, \"topic.order\": [6, 9, 3, 8, 7, 4, 1, 5, 2, 10]};\n",
       "\n",
       "function LDAvis_load_lib(url, callback){\n",
       "  var s = document.createElement('script');\n",
       "  s.src = url;\n",
       "  s.async = true;\n",
       "  s.onreadystatechange = s.onload = callback;\n",
       "  s.onerror = function(){console.warn(\"failed to load library \" + url);};\n",
       "  document.getElementsByTagName(\"head\")[0].appendChild(s);\n",
       "}\n",
       "\n",
       "if(typeof(LDAvis) !== \"undefined\"){\n",
       "   // already loaded: just create the visualization\n",
       "   !function(LDAvis){\n",
       "       new LDAvis(\"#\" + \"ldavis_el25681405249974486401672477997\", ldavis_el25681405249974486401672477997_data);\n",
       "   }(LDAvis);\n",
       "}else if(typeof define === \"function\" && define.amd){\n",
       "   // require.js is available: use it to load d3/LDAvis\n",
       "   require.config({paths: {d3: \"https://d3js.org/d3.v5\"}});\n",
       "   require([\"d3\"], function(d3){\n",
       "      window.d3 = d3;\n",
       "      LDAvis_load_lib(\"https://cdn.jsdelivr.net/gh/bmabey/pyLDAvis@3.3.1/pyLDAvis/js/ldavis.v3.0.0.js\", function(){\n",
       "        new LDAvis(\"#\" + \"ldavis_el25681405249974486401672477997\", ldavis_el25681405249974486401672477997_data);\n",
       "      });\n",
       "    });\n",
       "}else{\n",
       "    // require.js not available: dynamically load d3 & LDAvis\n",
       "    LDAvis_load_lib(\"https://d3js.org/d3.v5.js\", function(){\n",
       "         LDAvis_load_lib(\"https://cdn.jsdelivr.net/gh/bmabey/pyLDAvis@3.3.1/pyLDAvis/js/ldavis.v3.0.0.js\", function(){\n",
       "                 new LDAvis(\"#\" + \"ldavis_el25681405249974486401672477997\", ldavis_el25681405249974486401672477997_data);\n",
       "            })\n",
       "         });\n",
       "}\n",
       "</script>"
      ],
      "text/plain": [
       "PreparedData(topic_coordinates=              x         y  topics  cluster       Freq\n",
       "topic                                                \n",
       "5     -0.083629  0.013189       1        1  33.912307\n",
       "8      0.156558  0.073653       2        1  20.418210\n",
       "2     -0.218051  0.113881       3        1  16.097558\n",
       "7     -0.061568 -0.225171       4        1  14.810382\n",
       "6      0.114520  0.000936       5        1  14.761155\n",
       "3      0.018366  0.005139       6        1   0.000121\n",
       "0      0.018467  0.004897       7        1   0.000121\n",
       "4      0.018549  0.005181       8        1   0.000113\n",
       "1      0.018355  0.003397       9        1   0.000029\n",
       "9      0.018434  0.004899      10        1   0.000003, topic_info=         Term          Freq       Total Category  logprob  loglift\n",
       "5524    rilla  7.180000e+02  718.000000  Default  30.0000  30.0000\n",
       "4626   leslie  3.380000e+02  338.000000  Default  29.0000  29.0000\n",
       "3601      jim  4.680000e+02  468.000000  Default  28.0000  28.0000\n",
       "1590  matthew  3.760000e+02  376.000000  Default  27.0000  27.0000\n",
       "4328  captain  3.020000e+02  302.000000  Default  26.0000  26.0000\n",
       "...       ...           ...         ...      ...      ...      ...\n",
       "3349    ellen  3.089336e-07  156.601495  Topic10  -8.5459  -2.7376\n",
       "3783     paul  3.087292e-07  164.233730  Topic10  -8.5465  -2.7858\n",
       "5389     carl  3.082369e-07  157.613655  Topic10  -8.5481  -2.7463\n",
       "74      allan  3.068835e-07  128.215756  Topic10  -8.5525  -2.5443\n",
       "92     andrew  3.055862e-07  108.784503  Topic10  -8.5568  -2.3841\n",
       "\n",
       "[727 rows x 6 columns], token_table=      Topic      Freq    Term\n",
       "term                         \n",
       "0         1  0.154752     'em\n",
       "0         2  0.030950     'em\n",
       "0         4  0.804710     'em\n",
       "4248      4  0.426185       1\n",
       "4248      5  0.426185       1\n",
       "...     ...       ...     ...\n",
       "2958      1  0.089658  wreath\n",
       "2958      2  0.896583  wreath\n",
       "4241      1  0.854746   wrung\n",
       "4981      4  0.426219    yawn\n",
       "4981      5  0.426219    yawn\n",
       "\n",
       "[912 rows x 3 columns], R=30, lambda_step=0.01, plot_opts={'xlab': 'PC1', 'ylab': 'PC2'}, topic_order=[6, 9, 3, 8, 7, 4, 1, 5, 2, 10])"
      ]
     },
     "execution_count": 32,
     "metadata": {},
     "output_type": "execute_result"
    }
   ],
   "source": [
    "lda_viz"
   ]
  },
  {
   "cell_type": "code",
   "execution_count": null,
   "id": "a808b445",
   "metadata": {},
   "outputs": [],
   "source": []
  }
 ],
 "metadata": {
  "kernelspec": {
   "display_name": "Python 3",
   "language": "python",
   "name": "python3"
  },
  "language_info": {
   "codemirror_mode": {
    "name": "ipython",
    "version": 3
   },
   "file_extension": ".py",
   "mimetype": "text/x-python",
   "name": "python",
   "nbconvert_exporter": "python",
   "pygments_lexer": "ipython3",
   "version": "3.8.9"
  }
 },
 "nbformat": 4,
 "nbformat_minor": 5
}
